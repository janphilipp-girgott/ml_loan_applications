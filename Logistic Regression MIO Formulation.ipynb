{
 "cells": [
  {
   "cell_type": "markdown",
   "id": "c413ec44-d79f-4bd5-8c30-53355aa34062",
   "metadata": {},
   "source": [
    "## Robust/Sparse Logistic Regression MIO Formulation"
   ]
  },
  {
   "cell_type": "code",
   "execution_count": 2,
   "id": "ce7618a1-b660-4e02-9e30-f39a4a1b9854",
   "metadata": {},
   "outputs": [],
   "source": [
    "using CSV, DataFrames, Gurobi, JuMP"
   ]
  },
  {
   "cell_type": "code",
   "execution_count": 3,
   "id": "b620ff9c-ee03-4169-91aa-c9b63e6e8b87",
   "metadata": {},
   "outputs": [],
   "source": [
    "df = CSV.File(\"Mappe1.csv\", delim=\";\") |> DataFrame\n",
    "dropmissing!(df)\n",
    "X = Matrix(df[:, 1:end-1])\n",
    "y = df[:, end];"
   ]
  },
  {
   "cell_type": "code",
   "execution_count": null,
   "id": "99e644eb-cd69-49e7-80d6-634042e7db84",
   "metadata": {},
   "outputs": [],
   "source": [
    "#Define indices\n",
    "n, p = size(X)\n",
    "rho = 1\n",
    "gamma = 5\n",
    "M = 100\n",
    "k = 5\n",
    "\n",
    "# Initialize model\n",
    "logistic_model = Model(Gurobi.Optimizer)\n",
    "\n",
    "# Add variables\n",
    "@variable(logistic_model, beta[j=1:p])\n",
    "@variable(logistic_model, 0<=z[j=1:p]<=1, Bin)\n",
    "@variable(logistic_model, beta0)\n",
    "@variable(logistic_model, mu <= 0)\n",
    "@variable(logistic_model, nu[i=1:n] <= 0)\n",
    "\n",
    "# Add constraints\n",
    "@constraint(logistic_model, constraint1[i in 1:n], mu + nu[i] <= log((1+exp(-y[i]*(sum(X[i,j]*beta[j] for j=1:p)+beta0))\n",
    "            +rho*sqrt(sum((beta[j])^2 for j=1:p)))/(1+exp(y[i]*(sum(X[i,j]*beta[j] for j=1:p)+beta0))\n",
    "            +rho*sqrt(sum((beta[j])^2 for j=1:p)))))\n",
    "@objective(logistic_model, Max, -sum(log(1+exp(-y[i]*sum(X[i,j]*beta[j] for j=1:p)\n",
    "            +rho*sqrt(sum((beta[j])^2 for j=1:p)))) for i=1:n)+gamma*mu+sum(nu[i] for i=1:n))\n",
    "@constraint(logistic_model, bigM1[j in 1:p], -M*z[j] <= beta[j])\n",
    "@constraint(logistic_model, bigM2[j in 1:p], beta[j] <= M*z[j])\n",
    "@constraint(logistic_model, sparsity, sum(z[j] for j=1:p) <= k)\n",
    "\n",
    "optimize!(logistic_model)"
   ]
  },
  {
   "cell_type": "code",
   "execution_count": 12,
   "id": "ebf2d7d8-90dc-46b2-b720-f142c4175ad2",
   "metadata": {},
   "outputs": [
    {
     "name": "stdout",
     "output_type": "stream",
     "text": [
      "Set parameter Username\n",
      "Academic license - for non-commercial use only - expires 2024-08-22\n",
      "Gurobi Optimizer version 10.0.3 build v10.0.3rc0 (mac64[arm])\n",
      "\n",
      "CPU model: Apple M2\n",
      "Thread count: 8 physical cores, 8 logical processors, using up to 8 threads\n",
      "\n",
      "Optimize a model with 147187 rows, 101926 columns and 412347 nonzeros\n",
      "Model fingerprint: 0xd09fa57f\n",
      "Variable types: 101913 continuous, 13 integer (13 binary)\n",
      "Coefficient statistics:\n",
      "  Matrix range     [1e+00, 2e+03]\n",
      "  Objective range  [3e-04, 5e+00]\n",
      "  Bounds range     [1e+00, 1e+00]\n",
      "  RHS range        [1e+00, 1e+02]\n",
      "Presolve removed 0 rows and 1 columns\n",
      "Presolve time: 0.01s\n",
      "\n",
      "Explored 0 nodes (0 simplex iterations) in 0.04 seconds (0.08 work units)\n",
      "Thread count was 1 (of 8 available processors)\n",
      "\n",
      "Solution count 0\n",
      "No other solutions better than -1e+100\n",
      "\n",
      "Model is infeasible\n",
      "Best objective -, best bound -, gap -\n",
      "\n",
      "User-callback calls 45, time in user-callback 0.00 sec\n"
     ]
    }
   ],
   "source": [
    "using CSV, DataFrames, Gurobi, JuMP\n",
    "\n",
    "df = CSV.File(\"Mappe1.csv\", delim=\";\") |> DataFrame\n",
    "dropmissing!(df)\n",
    "X = Matrix(df[:, 1:end-1])\n",
    "y = df[:, end];\n",
    "\n",
    "# Define indices\n",
    "n, p = size(X)\n",
    "rho = 1\n",
    "gamma = 5\n",
    "M = 100\n",
    "k = 5\n",
    "\n",
    "# Initialize model\n",
    "logistic_model = Model(Gurobi.Optimizer)\n",
    "\n",
    "# Add variables\n",
    "@variable(logistic_model, beta[j=1:p])\n",
    "@variable(logistic_model, 0 <= z[j=1:p] <= 1, Bin)\n",
    "@variable(logistic_model, beta0)\n",
    "@variable(logistic_model, mu <= 0)\n",
    "@variable(logistic_model, nu[i=1:n] <= 0)\n",
    "\n",
    "# Hinge loss approximation\n",
    "@variable(logistic_model, u[i=1:n, j=1:p] >= 0)\n",
    "@variable(logistic_model, v[i=1:n, j=1:p] >= 0)\n",
    "\n",
    "# Add constraints\n",
    "@constraint(logistic_model, constraint1[i in 1:n, j=1:p], u[i, j] - v[i, j] == y[i] * (sum(X[i, k] * beta[k] for k = 1:p) + beta0) - 1 + nu[i])\n",
    "@constraint(logistic_model, bigM1[i=1:n, j=1:p], u[i, j] <= M * (1 - z[j]))\n",
    "@constraint(logistic_model, bigM2[i=1:n, j=1:p], v[i, j] <= M * z[j])\n",
    "@constraint(logistic_model, sparsity, sum(z[j] for j = 1:p) <= k)\n",
    "\n",
    "# Objective using hinge loss\n",
    "@objective(logistic_model, Max, -sum(u[i, j] + v[i, j] for i in 1:n, j in 1:p) / n + gamma * mu + sum(nu[i] for i in 1:n))\n",
    "\n",
    "optimize!(logistic_model)"
   ]
  }
 ],
 "metadata": {
  "kernelspec": {
   "display_name": "Julia (IAI) 1.9.3",
   "language": "julia",
   "name": "julia-_iai_-1.9"
  },
  "language_info": {
   "file_extension": ".jl",
   "mimetype": "application/julia",
   "name": "julia",
   "version": "1.9.3"
  }
 },
 "nbformat": 4,
 "nbformat_minor": 5
}
