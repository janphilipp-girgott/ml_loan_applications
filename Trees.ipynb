{
 "cells": [
  {
   "cell_type": "code",
   "execution_count": 1,
   "id": "3d7dbf72-dd43-4944-a614-89ea3f8d341c",
   "metadata": {},
   "outputs": [],
   "source": [
    "using CSV, DataFrames, Pkg, CategoricalArrays"
   ]
  },
  {
   "cell_type": "code",
   "execution_count": 2,
   "id": "a656eac8-ca4f-4de6-ac73-e934ba07ff02",
   "metadata": {},
   "outputs": [
    {
     "data": {
      "text/html": [
       "<div><div style = \"float: left;\"><span>20608×173 DataFrame</span></div><div style = \"float: right;\"><span style = \"font-style: italic;\">73 columns and 20583 rows omitted</span></div><div style = \"clear: both;\"></div></div><div class = \"data-frame\" style = \"overflow-x: scroll;\"><table class = \"data-frame\" style = \"margin-bottom: 6px;\"><thead><tr class = \"header\"><th class = \"rowNumber\" style = \"font-weight: bold; text-align: right;\">Row</th><th style = \"text-align: left;\">Column1</th><th style = \"text-align: left;\">SK_ID_CURR</th><th style = \"text-align: left;\">CNT_CHILDREN</th><th style = \"text-align: left;\">AMT_INCOME_TOTAL</th><th style = \"text-align: left;\">AMT_CREDIT</th><th style = \"text-align: left;\">AMT_ANNUITY</th><th style = \"text-align: left;\">AMT_GOODS_PRICE</th><th style = \"text-align: left;\">REGION_POPULATION_RELATIVE</th><th style = \"text-align: left;\">OWN_CAR_AGE</th><th style = \"text-align: left;\">FLAG_MOBIL</th><th style = \"text-align: left;\">FLAG_EMP_PHONE</th><th style = \"text-align: left;\">FLAG_WORK_PHONE</th><th style = \"text-align: left;\">FLAG_CONT_MOBILE</th><th style = \"text-align: left;\">FLAG_PHONE</th><th style = \"text-align: left;\">FLAG_EMAIL</th><th style = \"text-align: left;\">CNT_FAM_MEMBERS</th><th style = \"text-align: left;\">REGION_RATING_CLIENT</th><th style = \"text-align: left;\">REGION_RATING_CLIENT_W_CITY</th><th style = \"text-align: left;\">HOUR_APPR_PROCESS_START</th><th style = \"text-align: left;\">REG_REGION_NOT_LIVE_REGION</th><th style = \"text-align: left;\">REG_REGION_NOT_WORK_REGION</th><th style = \"text-align: left;\">LIVE_REGION_NOT_WORK_REGION</th><th style = \"text-align: left;\">REG_CITY_NOT_LIVE_CITY</th><th style = \"text-align: left;\">REG_CITY_NOT_WORK_CITY</th><th style = \"text-align: left;\">LIVE_CITY_NOT_WORK_CITY</th><th style = \"text-align: left;\">FLAG_DOCUMENT_2</th><th style = \"text-align: left;\">FLAG_DOCUMENT_3</th><th style = \"text-align: left;\">FLAG_DOCUMENT_4</th><th style = \"text-align: left;\">FLAG_DOCUMENT_5</th><th style = \"text-align: left;\">FLAG_DOCUMENT_6</th><th style = \"text-align: left;\">FLAG_DOCUMENT_7</th><th style = \"text-align: left;\">FLAG_DOCUMENT_8</th><th style = \"text-align: left;\">FLAG_DOCUMENT_9</th><th style = \"text-align: left;\">FLAG_DOCUMENT_10</th><th style = \"text-align: left;\">FLAG_DOCUMENT_11</th><th style = \"text-align: left;\">FLAG_DOCUMENT_12</th><th style = \"text-align: left;\">FLAG_DOCUMENT_13</th><th style = \"text-align: left;\">FLAG_DOCUMENT_14</th><th style = \"text-align: left;\">FLAG_DOCUMENT_15</th><th style = \"text-align: left;\">FLAG_DOCUMENT_16</th><th style = \"text-align: left;\">FLAG_DOCUMENT_17</th><th style = \"text-align: left;\">FLAG_DOCUMENT_18</th><th style = \"text-align: left;\">FLAG_DOCUMENT_19</th><th style = \"text-align: left;\">FLAG_DOCUMENT_20</th><th style = \"text-align: left;\">FLAG_DOCUMENT_21</th><th style = \"text-align: left;\">IS_EXT_SOURCE_1</th><th style = \"text-align: left;\">IS_EXT_SOURCE_2</th><th style = \"text-align: left;\">IS_EXT_SOURCE_3</th><th style = \"text-align: left;\">YEAR_OF_BIRTH</th><th style = \"text-align: left;\">YEAR_OF_EMPLOYMENT</th><th style = \"text-align: left;\">YEAR_OF_REGISTRATION</th><th style = \"text-align: left;\">YEAR_OF_ID_PUBLISH</th><th style = \"text-align: left;\">YEAR_OF_PHONE_CHANGE</th><th style = \"text-align: left;\">CODE_GENDER_F</th><th style = \"text-align: left;\">CODE_GENDER_M</th><th style = \"text-align: left;\">CODE_GENDER_XNA</th><th style = \"text-align: left;\">FLAG_OWN_CAR_N</th><th style = \"text-align: left;\">FLAG_OWN_CAR_Y</th><th style = \"text-align: left;\">FLAG_OWN_REALTY_N</th><th style = \"text-align: left;\">FLAG_OWN_REALTY_Y</th><th style = \"text-align: left;\">NAME_TYPE_SUITE_Children</th><th style = \"text-align: left;\">NAME_TYPE_SUITE_Family</th><th style = \"text-align: left;\">NAME_TYPE_SUITE_Group of people</th><th style = \"text-align: left;\">NAME_TYPE_SUITE_Other_A</th><th style = \"text-align: left;\">NAME_TYPE_SUITE_Other_B</th><th style = \"text-align: left;\">NAME_TYPE_SUITE_Spouse, partner</th><th style = \"text-align: left;\">NAME_TYPE_SUITE_Unaccompanied</th><th style = \"text-align: left;\">NAME_INCOME_TYPE_Businessman</th><th style = \"text-align: left;\">NAME_INCOME_TYPE_Commercial associate</th><th style = \"text-align: left;\">NAME_INCOME_TYPE_Maternity leave</th><th style = \"text-align: left;\">NAME_INCOME_TYPE_Pensioner</th><th style = \"text-align: left;\">NAME_INCOME_TYPE_State servant</th><th style = \"text-align: left;\">NAME_INCOME_TYPE_Student</th><th style = \"text-align: left;\">NAME_INCOME_TYPE_Working</th><th style = \"text-align: left;\">NAME_EDUCATION_TYPE_Academic degree</th><th style = \"text-align: left;\">NAME_EDUCATION_TYPE_Higher education</th><th style = \"text-align: left;\">NAME_EDUCATION_TYPE_Incomplete higher</th><th style = \"text-align: left;\">NAME_EDUCATION_TYPE_Lower secondary</th><th style = \"text-align: left;\">NAME_EDUCATION_TYPE_Secondary / secondary special</th><th style = \"text-align: left;\">NAME_FAMILY_STATUS_Civil marriage</th><th style = \"text-align: left;\">NAME_FAMILY_STATUS_Married</th><th style = \"text-align: left;\">NAME_FAMILY_STATUS_Separated</th><th style = \"text-align: left;\">NAME_FAMILY_STATUS_Single / not married</th><th style = \"text-align: left;\">NAME_FAMILY_STATUS_Widow</th><th style = \"text-align: left;\">NAME_HOUSING_TYPE_Co-op apartment</th><th style = \"text-align: left;\">NAME_HOUSING_TYPE_House / apartment</th><th style = \"text-align: left;\">NAME_HOUSING_TYPE_Municipal apartment</th><th style = \"text-align: left;\">NAME_HOUSING_TYPE_Office apartment</th><th style = \"text-align: left;\">NAME_HOUSING_TYPE_Rented apartment</th><th style = \"text-align: left;\">NAME_HOUSING_TYPE_With parents</th><th style = \"text-align: left;\">OCCUPATION_TYPE_Accountants</th><th style = \"text-align: left;\">OCCUPATION_TYPE_Cleaning staff</th><th style = \"text-align: left;\">OCCUPATION_TYPE_Cooking staff</th><th style = \"text-align: left;\">OCCUPATION_TYPE_Core staff</th><th style = \"text-align: left;\">OCCUPATION_TYPE_Drivers</th><th style = \"text-align: left;\">OCCUPATION_TYPE_HR staff</th><th style = \"text-align: left;\">OCCUPATION_TYPE_High skill tech staff</th><th style = \"text-align: left;\">OCCUPATION_TYPE_IT staff</th><th style = \"text-align: left;\">OCCUPATION_TYPE_Laborers</th><th style = \"text-align: left;\">OCCUPATION_TYPE_Low-skill Laborers</th><th style = \"text-align: right;\">&ctdot;</th></tr><tr class = \"subheader headerLastRow\"><th class = \"rowNumber\" style = \"font-weight: bold; text-align: right;\"></th><th title = \"Int64\" style = \"text-align: left;\">Int64</th><th title = \"Int64\" style = \"text-align: left;\">Int64</th><th title = \"Int64\" style = \"text-align: left;\">Int64</th><th title = \"Float64\" style = \"text-align: left;\">Float64</th><th title = \"Float64\" style = \"text-align: left;\">Float64</th><th title = \"Float64\" style = \"text-align: left;\">Float64</th><th title = \"Float64\" style = \"text-align: left;\">Float64</th><th title = \"Float64\" style = \"text-align: left;\">Float64</th><th title = \"Float64\" style = \"text-align: left;\">Float64</th><th title = \"Int64\" style = \"text-align: left;\">Int64</th><th title = \"Int64\" style = \"text-align: left;\">Int64</th><th title = \"Int64\" style = \"text-align: left;\">Int64</th><th title = \"Int64\" style = \"text-align: left;\">Int64</th><th title = \"Int64\" style = \"text-align: left;\">Int64</th><th title = \"Int64\" style = \"text-align: left;\">Int64</th><th title = \"Float64\" style = \"text-align: left;\">Float64</th><th title = \"Int64\" style = \"text-align: left;\">Int64</th><th title = \"Int64\" style = \"text-align: left;\">Int64</th><th title = \"Int64\" style = \"text-align: left;\">Int64</th><th title = \"Int64\" style = \"text-align: left;\">Int64</th><th title = \"Int64\" style = \"text-align: left;\">Int64</th><th title = \"Int64\" style = \"text-align: left;\">Int64</th><th title = \"Int64\" style = \"text-align: left;\">Int64</th><th title = \"Int64\" style = \"text-align: left;\">Int64</th><th title = \"Int64\" style = \"text-align: left;\">Int64</th><th title = \"Int64\" style = \"text-align: left;\">Int64</th><th title = \"Int64\" style = \"text-align: left;\">Int64</th><th title = \"Int64\" style = \"text-align: left;\">Int64</th><th title = \"Int64\" style = \"text-align: left;\">Int64</th><th title = \"Int64\" style = \"text-align: left;\">Int64</th><th title = \"Int64\" style = \"text-align: left;\">Int64</th><th title = \"Int64\" style = \"text-align: left;\">Int64</th><th title = \"Int64\" style = \"text-align: left;\">Int64</th><th title = \"Int64\" style = \"text-align: left;\">Int64</th><th title = \"Int64\" style = \"text-align: left;\">Int64</th><th title = \"Int64\" style = \"text-align: left;\">Int64</th><th title = \"Int64\" style = \"text-align: left;\">Int64</th><th title = \"Int64\" style = \"text-align: left;\">Int64</th><th title = \"Int64\" style = \"text-align: left;\">Int64</th><th title = \"Int64\" style = \"text-align: left;\">Int64</th><th title = \"Int64\" style = \"text-align: left;\">Int64</th><th title = \"Int64\" style = \"text-align: left;\">Int64</th><th title = \"Int64\" style = \"text-align: left;\">Int64</th><th title = \"Int64\" style = \"text-align: left;\">Int64</th><th title = \"Int64\" style = \"text-align: left;\">Int64</th><th title = \"Bool\" style = \"text-align: left;\">Bool</th><th title = \"Bool\" style = \"text-align: left;\">Bool</th><th title = \"Bool\" style = \"text-align: left;\">Bool</th><th title = \"Int64\" style = \"text-align: left;\">Int64</th><th title = \"Int64\" style = \"text-align: left;\">Int64</th><th title = \"Int64\" style = \"text-align: left;\">Int64</th><th title = \"Int64\" style = \"text-align: left;\">Int64</th><th title = \"Int64\" style = \"text-align: left;\">Int64</th><th title = \"Bool\" style = \"text-align: left;\">Bool</th><th title = \"Bool\" style = \"text-align: left;\">Bool</th><th title = \"Bool\" style = \"text-align: left;\">Bool</th><th title = \"Bool\" style = \"text-align: left;\">Bool</th><th title = \"Bool\" style = \"text-align: left;\">Bool</th><th title = \"Bool\" style = \"text-align: left;\">Bool</th><th title = \"Bool\" style = \"text-align: left;\">Bool</th><th title = \"Bool\" style = \"text-align: left;\">Bool</th><th title = \"Bool\" style = \"text-align: left;\">Bool</th><th title = \"Bool\" style = \"text-align: left;\">Bool</th><th title = \"Bool\" style = \"text-align: left;\">Bool</th><th title = \"Bool\" style = \"text-align: left;\">Bool</th><th title = \"Bool\" style = \"text-align: left;\">Bool</th><th title = \"Bool\" style = \"text-align: left;\">Bool</th><th title = \"Bool\" style = \"text-align: left;\">Bool</th><th title = \"Bool\" style = \"text-align: left;\">Bool</th><th title = \"Bool\" style = \"text-align: left;\">Bool</th><th title = \"Bool\" style = \"text-align: left;\">Bool</th><th title = \"Bool\" style = \"text-align: left;\">Bool</th><th title = \"Bool\" style = \"text-align: left;\">Bool</th><th title = \"Bool\" style = \"text-align: left;\">Bool</th><th title = \"Bool\" style = \"text-align: left;\">Bool</th><th title = \"Bool\" style = \"text-align: left;\">Bool</th><th title = \"Bool\" style = \"text-align: left;\">Bool</th><th title = \"Bool\" style = \"text-align: left;\">Bool</th><th title = \"Bool\" style = \"text-align: left;\">Bool</th><th title = \"Bool\" style = \"text-align: left;\">Bool</th><th title = \"Bool\" style = \"text-align: left;\">Bool</th><th title = \"Bool\" style = \"text-align: left;\">Bool</th><th title = \"Bool\" style = \"text-align: left;\">Bool</th><th title = \"Bool\" style = \"text-align: left;\">Bool</th><th title = \"Bool\" style = \"text-align: left;\">Bool</th><th title = \"Bool\" style = \"text-align: left;\">Bool</th><th title = \"Bool\" style = \"text-align: left;\">Bool</th><th title = \"Bool\" style = \"text-align: left;\">Bool</th><th title = \"Bool\" style = \"text-align: left;\">Bool</th><th title = \"Bool\" style = \"text-align: left;\">Bool</th><th title = \"Bool\" style = \"text-align: left;\">Bool</th><th title = \"Bool\" style = \"text-align: left;\">Bool</th><th title = \"Bool\" style = \"text-align: left;\">Bool</th><th title = \"Bool\" style = \"text-align: left;\">Bool</th><th title = \"Bool\" style = \"text-align: left;\">Bool</th><th title = \"Bool\" style = \"text-align: left;\">Bool</th><th title = \"Bool\" style = \"text-align: left;\">Bool</th><th title = \"Bool\" style = \"text-align: left;\">Bool</th><th title = \"Bool\" style = \"text-align: left;\">Bool</th><th title = \"Bool\" style = \"text-align: left;\">Bool</th><th title = \"Bool\" style = \"text-align: right;\">&ctdot;</th></tr></thead><tbody><tr><td class = \"rowNumber\" style = \"font-weight: bold; text-align: right;\">1</td><td style = \"text-align: right;\">179982</td><td style = \"text-align: right;\">308574</td><td style = \"text-align: right;\">0</td><td style = \"text-align: right;\">270000.0</td><td style = \"text-align: right;\">450000.0</td><td style = \"text-align: right;\">24543.0</td><td style = \"text-align: right;\">450000.0</td><td style = \"text-align: right;\">0.003541</td><td style = \"text-align: right;\">4.0</td><td style = \"text-align: right;\">1</td><td style = \"text-align: right;\">1</td><td style = \"text-align: right;\">1</td><td style = \"text-align: right;\">1</td><td style = \"text-align: right;\">1</td><td style = \"text-align: right;\">0</td><td style = \"text-align: right;\">2.0</td><td style = \"text-align: right;\">1</td><td style = \"text-align: right;\">1</td><td style = \"text-align: right;\">15</td><td style = \"text-align: right;\">0</td><td style = \"text-align: right;\">0</td><td style = \"text-align: right;\">0</td><td style = \"text-align: right;\">0</td><td style = \"text-align: right;\">1</td><td style = \"text-align: right;\">1</td><td style = \"text-align: right;\">0</td><td style = \"text-align: right;\">1</td><td style = \"text-align: right;\">0</td><td style = \"text-align: right;\">0</td><td style = \"text-align: right;\">0</td><td style = \"text-align: right;\">0</td><td style = \"text-align: right;\">0</td><td style = \"text-align: right;\">0</td><td style = \"text-align: right;\">0</td><td style = \"text-align: right;\">0</td><td style = \"text-align: right;\">0</td><td style = \"text-align: right;\">0</td><td style = \"text-align: right;\">0</td><td style = \"text-align: right;\">0</td><td style = \"text-align: right;\">0</td><td style = \"text-align: right;\">0</td><td style = \"text-align: right;\">0</td><td style = \"text-align: right;\">0</td><td style = \"text-align: right;\">0</td><td style = \"text-align: right;\">0</td><td style = \"text-align: right;\">false</td><td style = \"text-align: right;\">false</td><td style = \"text-align: right;\">false</td><td style = \"text-align: right;\">1992</td><td style = \"text-align: right;\">2019</td><td style = \"text-align: right;\">2016</td><td style = \"text-align: right;\">2019</td><td style = \"text-align: right;\">2016</td><td style = \"text-align: right;\">true</td><td style = \"text-align: right;\">false</td><td style = \"text-align: right;\">false</td><td style = \"text-align: right;\">false</td><td style = \"text-align: right;\">true</td><td style = \"text-align: right;\">false</td><td style = \"text-align: right;\">true</td><td style = \"text-align: right;\">false</td><td style = \"text-align: right;\">true</td><td style = \"text-align: right;\">false</td><td style = \"text-align: right;\">false</td><td style = \"text-align: right;\">false</td><td style = \"text-align: right;\">false</td><td style = \"text-align: right;\">false</td><td style = \"text-align: right;\">false</td><td style = \"text-align: right;\">true</td><td style = \"text-align: right;\">false</td><td style = \"text-align: right;\">false</td><td style = \"text-align: right;\">false</td><td style = \"text-align: right;\">false</td><td style = \"text-align: right;\">false</td><td style = \"text-align: right;\">false</td><td style = \"text-align: right;\">false</td><td style = \"text-align: right;\">true</td><td style = \"text-align: right;\">false</td><td style = \"text-align: right;\">false</td><td style = \"text-align: right;\">true</td><td style = \"text-align: right;\">false</td><td style = \"text-align: right;\">false</td><td style = \"text-align: right;\">false</td><td style = \"text-align: right;\">false</td><td style = \"text-align: right;\">false</td><td style = \"text-align: right;\">true</td><td style = \"text-align: right;\">false</td><td style = \"text-align: right;\">false</td><td style = \"text-align: right;\">false</td><td style = \"text-align: right;\">false</td><td style = \"text-align: right;\">false</td><td style = \"text-align: right;\">false</td><td style = \"text-align: right;\">false</td><td style = \"text-align: right;\">false</td><td style = \"text-align: right;\">false</td><td style = \"text-align: right;\">false</td><td style = \"text-align: right;\">false</td><td style = \"text-align: right;\">false</td><td style = \"text-align: right;\">false</td><td style = \"text-align: right;\">false</td><td style = \"text-align: right;\">&ctdot;</td></tr><tr><td class = \"rowNumber\" style = \"font-weight: bold; text-align: right;\">2</td><td style = \"text-align: right;\">237114</td><td style = \"text-align: right;\">374640</td><td style = \"text-align: right;\">0</td><td style = \"text-align: right;\">54000.0</td><td style = \"text-align: right;\">225000.0</td><td style = \"text-align: right;\">11074.5</td><td style = \"text-align: right;\">225000.0</td><td style = \"text-align: right;\">0.020246</td><td style = \"text-align: right;\">-1.0</td><td style = \"text-align: right;\">1</td><td style = \"text-align: right;\">1</td><td style = \"text-align: right;\">1</td><td style = \"text-align: right;\">1</td><td style = \"text-align: right;\">0</td><td style = \"text-align: right;\">0</td><td style = \"text-align: right;\">2.0</td><td style = \"text-align: right;\">3</td><td style = \"text-align: right;\">3</td><td style = \"text-align: right;\">8</td><td style = \"text-align: right;\">0</td><td style = \"text-align: right;\">0</td><td style = \"text-align: right;\">0</td><td style = \"text-align: right;\">0</td><td style = \"text-align: right;\">0</td><td style = \"text-align: right;\">0</td><td style = \"text-align: right;\">0</td><td style = \"text-align: right;\">1</td><td style = \"text-align: right;\">0</td><td style = \"text-align: right;\">0</td><td style = \"text-align: right;\">0</td><td style = \"text-align: right;\">0</td><td style = \"text-align: right;\">0</td><td style = \"text-align: right;\">0</td><td style = \"text-align: right;\">0</td><td style = \"text-align: right;\">0</td><td style = \"text-align: right;\">0</td><td style = \"text-align: right;\">0</td><td style = \"text-align: right;\">0</td><td style = \"text-align: right;\">0</td><td style = \"text-align: right;\">0</td><td style = \"text-align: right;\">0</td><td style = \"text-align: right;\">0</td><td style = \"text-align: right;\">0</td><td style = \"text-align: right;\">0</td><td style = \"text-align: right;\">0</td><td style = \"text-align: right;\">false</td><td style = \"text-align: right;\">false</td><td style = \"text-align: right;\">false</td><td style = \"text-align: right;\">1993</td><td style = \"text-align: right;\">2015</td><td style = \"text-align: right;\">2018</td><td style = \"text-align: right;\">2014</td><td style = \"text-align: right;\">2016</td><td style = \"text-align: right;\">true</td><td style = \"text-align: right;\">false</td><td style = \"text-align: right;\">false</td><td style = \"text-align: right;\">true</td><td style = \"text-align: right;\">false</td><td style = \"text-align: right;\">false</td><td style = \"text-align: right;\">true</td><td style = \"text-align: right;\">false</td><td style = \"text-align: right;\">false</td><td style = \"text-align: right;\">false</td><td style = \"text-align: right;\">false</td><td style = \"text-align: right;\">false</td><td style = \"text-align: right;\">false</td><td style = \"text-align: right;\">true</td><td style = \"text-align: right;\">false</td><td style = \"text-align: right;\">false</td><td style = \"text-align: right;\">false</td><td style = \"text-align: right;\">false</td><td style = \"text-align: right;\">false</td><td style = \"text-align: right;\">false</td><td style = \"text-align: right;\">true</td><td style = \"text-align: right;\">false</td><td style = \"text-align: right;\">true</td><td style = \"text-align: right;\">false</td><td style = \"text-align: right;\">false</td><td style = \"text-align: right;\">false</td><td style = \"text-align: right;\">false</td><td style = \"text-align: right;\">true</td><td style = \"text-align: right;\">false</td><td style = \"text-align: right;\">false</td><td style = \"text-align: right;\">false</td><td style = \"text-align: right;\">true</td><td style = \"text-align: right;\">false</td><td style = \"text-align: right;\">false</td><td style = \"text-align: right;\">false</td><td style = \"text-align: right;\">false</td><td style = \"text-align: right;\">false</td><td style = \"text-align: right;\">false</td><td style = \"text-align: right;\">false</td><td style = \"text-align: right;\">false</td><td style = \"text-align: right;\">false</td><td style = \"text-align: right;\">false</td><td style = \"text-align: right;\">false</td><td style = \"text-align: right;\">false</td><td style = \"text-align: right;\">false</td><td style = \"text-align: right;\">false</td><td style = \"text-align: right;\">false</td><td style = \"text-align: right;\">&ctdot;</td></tr><tr><td class = \"rowNumber\" style = \"font-weight: bold; text-align: right;\">3</td><td style = \"text-align: right;\">245540</td><td style = \"text-align: right;\">384153</td><td style = \"text-align: right;\">0</td><td style = \"text-align: right;\">135000.0</td><td style = \"text-align: right;\">677664.0</td><td style = \"text-align: right;\">43308.0</td><td style = \"text-align: right;\">585000.0</td><td style = \"text-align: right;\">0.003069</td><td style = \"text-align: right;\">-1.0</td><td style = \"text-align: right;\">1</td><td style = \"text-align: right;\">1</td><td style = \"text-align: right;\">0</td><td style = \"text-align: right;\">1</td><td style = \"text-align: right;\">0</td><td style = \"text-align: right;\">0</td><td style = \"text-align: right;\">2.0</td><td style = \"text-align: right;\">3</td><td style = \"text-align: right;\">3</td><td style = \"text-align: right;\">10</td><td style = \"text-align: right;\">0</td><td style = \"text-align: right;\">0</td><td style = \"text-align: right;\">0</td><td style = \"text-align: right;\">0</td><td style = \"text-align: right;\">1</td><td style = \"text-align: right;\">1</td><td style = \"text-align: right;\">0</td><td style = \"text-align: right;\">0</td><td style = \"text-align: right;\">0</td><td style = \"text-align: right;\">0</td><td style = \"text-align: right;\">0</td><td style = \"text-align: right;\">0</td><td style = \"text-align: right;\">1</td><td style = \"text-align: right;\">0</td><td style = \"text-align: right;\">0</td><td style = \"text-align: right;\">0</td><td style = \"text-align: right;\">0</td><td style = \"text-align: right;\">0</td><td style = \"text-align: right;\">0</td><td style = \"text-align: right;\">0</td><td style = \"text-align: right;\">0</td><td style = \"text-align: right;\">0</td><td style = \"text-align: right;\">0</td><td style = \"text-align: right;\">0</td><td style = \"text-align: right;\">0</td><td style = \"text-align: right;\">0</td><td style = \"text-align: right;\">false</td><td style = \"text-align: right;\">false</td><td style = \"text-align: right;\">false</td><td style = \"text-align: right;\">1969</td><td style = \"text-align: right;\">2015</td><td style = \"text-align: right;\">2004</td><td style = \"text-align: right;\">2019</td><td style = \"text-align: right;\">2017</td><td style = \"text-align: right;\">false</td><td style = \"text-align: right;\">true</td><td style = \"text-align: right;\">false</td><td style = \"text-align: right;\">true</td><td style = \"text-align: right;\">false</td><td style = \"text-align: right;\">false</td><td style = \"text-align: right;\">true</td><td style = \"text-align: right;\">false</td><td style = \"text-align: right;\">true</td><td style = \"text-align: right;\">false</td><td style = \"text-align: right;\">false</td><td style = \"text-align: right;\">false</td><td style = \"text-align: right;\">false</td><td style = \"text-align: right;\">false</td><td style = \"text-align: right;\">false</td><td style = \"text-align: right;\">false</td><td style = \"text-align: right;\">false</td><td style = \"text-align: right;\">false</td><td style = \"text-align: right;\">false</td><td style = \"text-align: right;\">false</td><td style = \"text-align: right;\">true</td><td style = \"text-align: right;\">false</td><td style = \"text-align: right;\">false</td><td style = \"text-align: right;\">false</td><td style = \"text-align: right;\">false</td><td style = \"text-align: right;\">true</td><td style = \"text-align: right;\">false</td><td style = \"text-align: right;\">true</td><td style = \"text-align: right;\">false</td><td style = \"text-align: right;\">false</td><td style = \"text-align: right;\">false</td><td style = \"text-align: right;\">false</td><td style = \"text-align: right;\">true</td><td style = \"text-align: right;\">false</td><td style = \"text-align: right;\">false</td><td style = \"text-align: right;\">false</td><td style = \"text-align: right;\">false</td><td style = \"text-align: right;\">false</td><td style = \"text-align: right;\">false</td><td style = \"text-align: right;\">false</td><td style = \"text-align: right;\">false</td><td style = \"text-align: right;\">false</td><td style = \"text-align: right;\">false</td><td style = \"text-align: right;\">false</td><td style = \"text-align: right;\">false</td><td style = \"text-align: right;\">true</td><td style = \"text-align: right;\">false</td><td style = \"text-align: right;\">&ctdot;</td></tr><tr><td class = \"rowNumber\" style = \"font-weight: bold; text-align: right;\">4</td><td style = \"text-align: right;\">176305</td><td style = \"text-align: right;\">304291</td><td style = \"text-align: right;\">2</td><td style = \"text-align: right;\">81000.0</td><td style = \"text-align: right;\">584766.0</td><td style = \"text-align: right;\">24903.0</td><td style = \"text-align: right;\">472500.0</td><td style = \"text-align: right;\">0.010556</td><td style = \"text-align: right;\">12.0</td><td style = \"text-align: right;\">1</td><td style = \"text-align: right;\">1</td><td style = \"text-align: right;\">0</td><td style = \"text-align: right;\">1</td><td style = \"text-align: right;\">1</td><td style = \"text-align: right;\">0</td><td style = \"text-align: right;\">4.0</td><td style = \"text-align: right;\">3</td><td style = \"text-align: right;\">3</td><td style = \"text-align: right;\">9</td><td style = \"text-align: right;\">0</td><td style = \"text-align: right;\">0</td><td style = \"text-align: right;\">0</td><td style = \"text-align: right;\">0</td><td style = \"text-align: right;\">0</td><td style = \"text-align: right;\">0</td><td style = \"text-align: right;\">0</td><td style = \"text-align: right;\">1</td><td style = \"text-align: right;\">0</td><td style = \"text-align: right;\">0</td><td style = \"text-align: right;\">0</td><td style = \"text-align: right;\">0</td><td style = \"text-align: right;\">0</td><td style = \"text-align: right;\">0</td><td style = \"text-align: right;\">0</td><td style = \"text-align: right;\">0</td><td style = \"text-align: right;\">0</td><td style = \"text-align: right;\">0</td><td style = \"text-align: right;\">0</td><td style = \"text-align: right;\">0</td><td style = \"text-align: right;\">0</td><td style = \"text-align: right;\">0</td><td style = \"text-align: right;\">0</td><td style = \"text-align: right;\">0</td><td style = \"text-align: right;\">0</td><td style = \"text-align: right;\">0</td><td style = \"text-align: right;\">false</td><td style = \"text-align: right;\">false</td><td style = \"text-align: right;\">false</td><td style = \"text-align: right;\">1981</td><td style = \"text-align: right;\">2014</td><td style = \"text-align: right;\">2019</td><td style = \"text-align: right;\">2010</td><td style = \"text-align: right;\">2014</td><td style = \"text-align: right;\">true</td><td style = \"text-align: right;\">false</td><td style = \"text-align: right;\">false</td><td style = \"text-align: right;\">false</td><td style = \"text-align: right;\">true</td><td style = \"text-align: right;\">false</td><td style = \"text-align: right;\">true</td><td style = \"text-align: right;\">false</td><td style = \"text-align: right;\">false</td><td style = \"text-align: right;\">false</td><td style = \"text-align: right;\">false</td><td style = \"text-align: right;\">false</td><td style = \"text-align: right;\">false</td><td style = \"text-align: right;\">true</td><td style = \"text-align: right;\">false</td><td style = \"text-align: right;\">false</td><td style = \"text-align: right;\">false</td><td style = \"text-align: right;\">false</td><td style = \"text-align: right;\">false</td><td style = \"text-align: right;\">false</td><td style = \"text-align: right;\">true</td><td style = \"text-align: right;\">false</td><td style = \"text-align: right;\">false</td><td style = \"text-align: right;\">false</td><td style = \"text-align: right;\">false</td><td style = \"text-align: right;\">true</td><td style = \"text-align: right;\">false</td><td style = \"text-align: right;\">true</td><td style = \"text-align: right;\">false</td><td style = \"text-align: right;\">false</td><td style = \"text-align: right;\">false</td><td style = \"text-align: right;\">false</td><td style = \"text-align: right;\">true</td><td style = \"text-align: right;\">false</td><td style = \"text-align: right;\">false</td><td style = \"text-align: right;\">false</td><td style = \"text-align: right;\">false</td><td style = \"text-align: right;\">false</td><td style = \"text-align: right;\">false</td><td style = \"text-align: right;\">false</td><td style = \"text-align: right;\">false</td><td style = \"text-align: right;\">false</td><td style = \"text-align: right;\">false</td><td style = \"text-align: right;\">false</td><td style = \"text-align: right;\">false</td><td style = \"text-align: right;\">false</td><td style = \"text-align: right;\">false</td><td style = \"text-align: right;\">&ctdot;</td></tr><tr><td class = \"rowNumber\" style = \"font-weight: bold; text-align: right;\">5</td><td style = \"text-align: right;\">51060</td><td style = \"text-align: right;\">159128</td><td style = \"text-align: right;\">1</td><td style = \"text-align: right;\">193500.0</td><td style = \"text-align: right;\">706500.0</td><td style = \"text-align: right;\">36202.5</td><td style = \"text-align: right;\">706500.0</td><td style = \"text-align: right;\">0.006008</td><td style = \"text-align: right;\">7.0</td><td style = \"text-align: right;\">1</td><td style = \"text-align: right;\">1</td><td style = \"text-align: right;\">0</td><td style = \"text-align: right;\">1</td><td style = \"text-align: right;\">0</td><td style = \"text-align: right;\">0</td><td style = \"text-align: right;\">3.0</td><td style = \"text-align: right;\">2</td><td style = \"text-align: right;\">2</td><td style = \"text-align: right;\">10</td><td style = \"text-align: right;\">0</td><td style = \"text-align: right;\">0</td><td style = \"text-align: right;\">0</td><td style = \"text-align: right;\">0</td><td style = \"text-align: right;\">0</td><td style = \"text-align: right;\">0</td><td style = \"text-align: right;\">0</td><td style = \"text-align: right;\">1</td><td style = \"text-align: right;\">0</td><td style = \"text-align: right;\">0</td><td style = \"text-align: right;\">0</td><td style = \"text-align: right;\">0</td><td style = \"text-align: right;\">0</td><td style = \"text-align: right;\">0</td><td style = \"text-align: right;\">0</td><td style = \"text-align: right;\">0</td><td style = \"text-align: right;\">0</td><td style = \"text-align: right;\">0</td><td style = \"text-align: right;\">0</td><td style = \"text-align: right;\">0</td><td style = \"text-align: right;\">0</td><td style = \"text-align: right;\">0</td><td style = \"text-align: right;\">0</td><td style = \"text-align: right;\">0</td><td style = \"text-align: right;\">0</td><td style = \"text-align: right;\">0</td><td style = \"text-align: right;\">false</td><td style = \"text-align: right;\">false</td><td style = \"text-align: right;\">false</td><td style = \"text-align: right;\">1972</td><td style = \"text-align: right;\">2008</td><td style = \"text-align: right;\">2001</td><td style = \"text-align: right;\">2017</td><td style = \"text-align: right;\">2018</td><td style = \"text-align: right;\">false</td><td style = \"text-align: right;\">true</td><td style = \"text-align: right;\">false</td><td style = \"text-align: right;\">false</td><td style = \"text-align: right;\">true</td><td style = \"text-align: right;\">false</td><td style = \"text-align: right;\">true</td><td style = \"text-align: right;\">false</td><td style = \"text-align: right;\">false</td><td style = \"text-align: right;\">false</td><td style = \"text-align: right;\">false</td><td style = \"text-align: right;\">false</td><td style = \"text-align: right;\">false</td><td style = \"text-align: right;\">true</td><td style = \"text-align: right;\">false</td><td style = \"text-align: right;\">false</td><td style = \"text-align: right;\">false</td><td style = \"text-align: right;\">false</td><td style = \"text-align: right;\">false</td><td style = \"text-align: right;\">false</td><td style = \"text-align: right;\">true</td><td style = \"text-align: right;\">false</td><td style = \"text-align: right;\">false</td><td style = \"text-align: right;\">false</td><td style = \"text-align: right;\">false</td><td style = \"text-align: right;\">true</td><td style = \"text-align: right;\">false</td><td style = \"text-align: right;\">true</td><td style = \"text-align: right;\">false</td><td style = \"text-align: right;\">false</td><td style = \"text-align: right;\">false</td><td style = \"text-align: right;\">false</td><td style = \"text-align: right;\">true</td><td style = \"text-align: right;\">false</td><td style = \"text-align: right;\">false</td><td style = \"text-align: right;\">false</td><td style = \"text-align: right;\">false</td><td style = \"text-align: right;\">false</td><td style = \"text-align: right;\">false</td><td style = \"text-align: right;\">false</td><td style = \"text-align: right;\">false</td><td style = \"text-align: right;\">true</td><td style = \"text-align: right;\">false</td><td style = \"text-align: right;\">false</td><td style = \"text-align: right;\">false</td><td style = \"text-align: right;\">false</td><td style = \"text-align: right;\">false</td><td style = \"text-align: right;\">&ctdot;</td></tr><tr><td class = \"rowNumber\" style = \"font-weight: bold; text-align: right;\">6</td><td style = \"text-align: right;\">162469</td><td style = \"text-align: right;\">288354</td><td style = \"text-align: right;\">0</td><td style = \"text-align: right;\">180000.0</td><td style = \"text-align: right;\">675000.0</td><td style = \"text-align: right;\">32472.0</td><td style = \"text-align: right;\">675000.0</td><td style = \"text-align: right;\">0.072508</td><td style = \"text-align: right;\">-1.0</td><td style = \"text-align: right;\">1</td><td style = \"text-align: right;\">1</td><td style = \"text-align: right;\">1</td><td style = \"text-align: right;\">1</td><td style = \"text-align: right;\">1</td><td style = \"text-align: right;\">0</td><td style = \"text-align: right;\">1.0</td><td style = \"text-align: right;\">1</td><td style = \"text-align: right;\">1</td><td style = \"text-align: right;\">14</td><td style = \"text-align: right;\">1</td><td style = \"text-align: right;\">1</td><td style = \"text-align: right;\">0</td><td style = \"text-align: right;\">1</td><td style = \"text-align: right;\">1</td><td style = \"text-align: right;\">1</td><td style = \"text-align: right;\">0</td><td style = \"text-align: right;\">1</td><td style = \"text-align: right;\">0</td><td style = \"text-align: right;\">0</td><td style = \"text-align: right;\">0</td><td style = \"text-align: right;\">0</td><td style = \"text-align: right;\">0</td><td style = \"text-align: right;\">0</td><td style = \"text-align: right;\">0</td><td style = \"text-align: right;\">0</td><td style = \"text-align: right;\">0</td><td style = \"text-align: right;\">0</td><td style = \"text-align: right;\">0</td><td style = \"text-align: right;\">0</td><td style = \"text-align: right;\">0</td><td style = \"text-align: right;\">0</td><td style = \"text-align: right;\">0</td><td style = \"text-align: right;\">0</td><td style = \"text-align: right;\">0</td><td style = \"text-align: right;\">0</td><td style = \"text-align: right;\">false</td><td style = \"text-align: right;\">false</td><td style = \"text-align: right;\">false</td><td style = \"text-align: right;\">1982</td><td style = \"text-align: right;\">2015</td><td style = \"text-align: right;\">2005</td><td style = \"text-align: right;\">2007</td><td style = \"text-align: right;\">2019</td><td style = \"text-align: right;\">false</td><td style = \"text-align: right;\">true</td><td style = \"text-align: right;\">false</td><td style = \"text-align: right;\">true</td><td style = \"text-align: right;\">false</td><td style = \"text-align: right;\">true</td><td style = \"text-align: right;\">false</td><td style = \"text-align: right;\">false</td><td style = \"text-align: right;\">false</td><td style = \"text-align: right;\">false</td><td style = \"text-align: right;\">false</td><td style = \"text-align: right;\">false</td><td style = \"text-align: right;\">false</td><td style = \"text-align: right;\">true</td><td style = \"text-align: right;\">false</td><td style = \"text-align: right;\">false</td><td style = \"text-align: right;\">false</td><td style = \"text-align: right;\">false</td><td style = \"text-align: right;\">false</td><td style = \"text-align: right;\">false</td><td style = \"text-align: right;\">true</td><td style = \"text-align: right;\">false</td><td style = \"text-align: right;\">false</td><td style = \"text-align: right;\">false</td><td style = \"text-align: right;\">false</td><td style = \"text-align: right;\">true</td><td style = \"text-align: right;\">false</td><td style = \"text-align: right;\">false</td><td style = \"text-align: right;\">false</td><td style = \"text-align: right;\">true</td><td style = \"text-align: right;\">false</td><td style = \"text-align: right;\">false</td><td style = \"text-align: right;\">true</td><td style = \"text-align: right;\">false</td><td style = \"text-align: right;\">false</td><td style = \"text-align: right;\">false</td><td style = \"text-align: right;\">false</td><td style = \"text-align: right;\">false</td><td style = \"text-align: right;\">false</td><td style = \"text-align: right;\">false</td><td style = \"text-align: right;\">true</td><td style = \"text-align: right;\">false</td><td style = \"text-align: right;\">false</td><td style = \"text-align: right;\">false</td><td style = \"text-align: right;\">false</td><td style = \"text-align: right;\">false</td><td style = \"text-align: right;\">false</td><td style = \"text-align: right;\">&ctdot;</td></tr><tr><td class = \"rowNumber\" style = \"font-weight: bold; text-align: right;\">7</td><td style = \"text-align: right;\">148422</td><td style = \"text-align: right;\">272093</td><td style = \"text-align: right;\">1</td><td style = \"text-align: right;\">135000.0</td><td style = \"text-align: right;\">3.13438e5</td><td style = \"text-align: right;\">21073.5</td><td style = \"text-align: right;\">283500.0</td><td style = \"text-align: right;\">0.020713</td><td style = \"text-align: right;\">21.0</td><td style = \"text-align: right;\">1</td><td style = \"text-align: right;\">1</td><td style = \"text-align: right;\">0</td><td style = \"text-align: right;\">1</td><td style = \"text-align: right;\">0</td><td style = \"text-align: right;\">0</td><td style = \"text-align: right;\">3.0</td><td style = \"text-align: right;\">3</td><td style = \"text-align: right;\">3</td><td style = \"text-align: right;\">7</td><td style = \"text-align: right;\">0</td><td style = \"text-align: right;\">0</td><td style = \"text-align: right;\">0</td><td style = \"text-align: right;\">0</td><td style = \"text-align: right;\">0</td><td style = \"text-align: right;\">0</td><td style = \"text-align: right;\">0</td><td style = \"text-align: right;\">1</td><td style = \"text-align: right;\">0</td><td style = \"text-align: right;\">0</td><td style = \"text-align: right;\">0</td><td style = \"text-align: right;\">0</td><td style = \"text-align: right;\">0</td><td style = \"text-align: right;\">0</td><td style = \"text-align: right;\">0</td><td style = \"text-align: right;\">0</td><td style = \"text-align: right;\">0</td><td style = \"text-align: right;\">0</td><td style = \"text-align: right;\">0</td><td style = \"text-align: right;\">0</td><td style = \"text-align: right;\">0</td><td style = \"text-align: right;\">0</td><td style = \"text-align: right;\">0</td><td style = \"text-align: right;\">0</td><td style = \"text-align: right;\">0</td><td style = \"text-align: right;\">0</td><td style = \"text-align: right;\">false</td><td style = \"text-align: right;\">false</td><td style = \"text-align: right;\">false</td><td style = \"text-align: right;\">1988</td><td style = \"text-align: right;\">2009</td><td style = \"text-align: right;\">2005</td><td style = \"text-align: right;\">2009</td><td style = \"text-align: right;\">2013</td><td style = \"text-align: right;\">true</td><td style = \"text-align: right;\">false</td><td style = \"text-align: right;\">false</td><td style = \"text-align: right;\">false</td><td style = \"text-align: right;\">true</td><td style = \"text-align: right;\">true</td><td style = \"text-align: right;\">false</td><td style = \"text-align: right;\">false</td><td style = \"text-align: right;\">false</td><td style = \"text-align: right;\">false</td><td style = \"text-align: right;\">false</td><td style = \"text-align: right;\">false</td><td style = \"text-align: right;\">false</td><td style = \"text-align: right;\">true</td><td style = \"text-align: right;\">false</td><td style = \"text-align: right;\">false</td><td style = \"text-align: right;\">false</td><td style = \"text-align: right;\">false</td><td style = \"text-align: right;\">false</td><td style = \"text-align: right;\">false</td><td style = \"text-align: right;\">true</td><td style = \"text-align: right;\">false</td><td style = \"text-align: right;\">false</td><td style = \"text-align: right;\">false</td><td style = \"text-align: right;\">false</td><td style = \"text-align: right;\">true</td><td style = \"text-align: right;\">true</td><td style = \"text-align: right;\">false</td><td style = \"text-align: right;\">false</td><td style = \"text-align: right;\">false</td><td style = \"text-align: right;\">false</td><td style = \"text-align: right;\">false</td><td style = \"text-align: right;\">false</td><td style = \"text-align: right;\">false</td><td style = \"text-align: right;\">false</td><td style = \"text-align: right;\">false</td><td style = \"text-align: right;\">true</td><td style = \"text-align: right;\">false</td><td style = \"text-align: right;\">false</td><td style = \"text-align: right;\">false</td><td style = \"text-align: right;\">false</td><td style = \"text-align: right;\">false</td><td style = \"text-align: right;\">false</td><td style = \"text-align: right;\">false</td><td style = \"text-align: right;\">false</td><td style = \"text-align: right;\">false</td><td style = \"text-align: right;\">false</td><td style = \"text-align: right;\">&ctdot;</td></tr><tr><td class = \"rowNumber\" style = \"font-weight: bold; text-align: right;\">8</td><td style = \"text-align: right;\">291898</td><td style = \"text-align: right;\">438162</td><td style = \"text-align: right;\">1</td><td style = \"text-align: right;\">180000.0</td><td style = \"text-align: right;\">675000.0</td><td style = \"text-align: right;\">49248.0</td><td style = \"text-align: right;\">675000.0</td><td style = \"text-align: right;\">0.018209</td><td style = \"text-align: right;\">11.0</td><td style = \"text-align: right;\">1</td><td style = \"text-align: right;\">1</td><td style = \"text-align: right;\">0</td><td style = \"text-align: right;\">1</td><td style = \"text-align: right;\">0</td><td style = \"text-align: right;\">0</td><td style = \"text-align: right;\">3.0</td><td style = \"text-align: right;\">3</td><td style = \"text-align: right;\">3</td><td style = \"text-align: right;\">10</td><td style = \"text-align: right;\">0</td><td style = \"text-align: right;\">0</td><td style = \"text-align: right;\">0</td><td style = \"text-align: right;\">0</td><td style = \"text-align: right;\">0</td><td style = \"text-align: right;\">0</td><td style = \"text-align: right;\">0</td><td style = \"text-align: right;\">1</td><td style = \"text-align: right;\">0</td><td style = \"text-align: right;\">0</td><td style = \"text-align: right;\">0</td><td style = \"text-align: right;\">0</td><td style = \"text-align: right;\">0</td><td style = \"text-align: right;\">0</td><td style = \"text-align: right;\">0</td><td style = \"text-align: right;\">0</td><td style = \"text-align: right;\">0</td><td style = \"text-align: right;\">0</td><td style = \"text-align: right;\">0</td><td style = \"text-align: right;\">0</td><td style = \"text-align: right;\">0</td><td style = \"text-align: right;\">0</td><td style = \"text-align: right;\">0</td><td style = \"text-align: right;\">0</td><td style = \"text-align: right;\">0</td><td style = \"text-align: right;\">0</td><td style = \"text-align: right;\">false</td><td style = \"text-align: right;\">false</td><td style = \"text-align: right;\">false</td><td style = \"text-align: right;\">1983</td><td style = \"text-align: right;\">2013</td><td style = \"text-align: right;\">2015</td><td style = \"text-align: right;\">2018</td><td style = \"text-align: right;\">2019</td><td style = \"text-align: right;\">false</td><td style = \"text-align: right;\">true</td><td style = \"text-align: right;\">false</td><td style = \"text-align: right;\">false</td><td style = \"text-align: right;\">true</td><td style = \"text-align: right;\">false</td><td style = \"text-align: right;\">true</td><td style = \"text-align: right;\">false</td><td style = \"text-align: right;\">true</td><td style = \"text-align: right;\">false</td><td style = \"text-align: right;\">false</td><td style = \"text-align: right;\">false</td><td style = \"text-align: right;\">false</td><td style = \"text-align: right;\">false</td><td style = \"text-align: right;\">false</td><td style = \"text-align: right;\">true</td><td style = \"text-align: right;\">false</td><td style = \"text-align: right;\">false</td><td style = \"text-align: right;\">false</td><td style = \"text-align: right;\">false</td><td style = \"text-align: right;\">false</td><td style = \"text-align: right;\">false</td><td style = \"text-align: right;\">false</td><td style = \"text-align: right;\">false</td><td style = \"text-align: right;\">false</td><td style = \"text-align: right;\">true</td><td style = \"text-align: right;\">false</td><td style = \"text-align: right;\">true</td><td style = \"text-align: right;\">false</td><td style = \"text-align: right;\">false</td><td style = \"text-align: right;\">false</td><td style = \"text-align: right;\">false</td><td style = \"text-align: right;\">false</td><td style = \"text-align: right;\">false</td><td style = \"text-align: right;\">true</td><td style = \"text-align: right;\">false</td><td style = \"text-align: right;\">false</td><td style = \"text-align: right;\">false</td><td style = \"text-align: right;\">false</td><td style = \"text-align: right;\">false</td><td style = \"text-align: right;\">false</td><td style = \"text-align: right;\">false</td><td style = \"text-align: right;\">false</td><td style = \"text-align: right;\">false</td><td style = \"text-align: right;\">false</td><td style = \"text-align: right;\">false</td><td style = \"text-align: right;\">false</td><td style = \"text-align: right;\">&ctdot;</td></tr><tr><td class = \"rowNumber\" style = \"font-weight: bold; text-align: right;\">9</td><td style = \"text-align: right;\">185834</td><td style = \"text-align: right;\">315428</td><td style = \"text-align: right;\">1</td><td style = \"text-align: right;\">243000.0</td><td style = \"text-align: right;\">900000.0</td><td style = \"text-align: right;\">35824.5</td><td style = \"text-align: right;\">900000.0</td><td style = \"text-align: right;\">0.028663</td><td style = \"text-align: right;\">64.0</td><td style = \"text-align: right;\">1</td><td style = \"text-align: right;\">1</td><td style = \"text-align: right;\">0</td><td style = \"text-align: right;\">1</td><td style = \"text-align: right;\">0</td><td style = \"text-align: right;\">0</td><td style = \"text-align: right;\">3.0</td><td style = \"text-align: right;\">2</td><td style = \"text-align: right;\">2</td><td style = \"text-align: right;\">8</td><td style = \"text-align: right;\">0</td><td style = \"text-align: right;\">1</td><td style = \"text-align: right;\">1</td><td style = \"text-align: right;\">0</td><td style = \"text-align: right;\">1</td><td style = \"text-align: right;\">1</td><td style = \"text-align: right;\">0</td><td style = \"text-align: right;\">1</td><td style = \"text-align: right;\">0</td><td style = \"text-align: right;\">0</td><td style = \"text-align: right;\">0</td><td style = \"text-align: right;\">0</td><td style = \"text-align: right;\">0</td><td style = \"text-align: right;\">0</td><td style = \"text-align: right;\">0</td><td style = \"text-align: right;\">0</td><td style = \"text-align: right;\">0</td><td style = \"text-align: right;\">0</td><td style = \"text-align: right;\">0</td><td style = \"text-align: right;\">0</td><td style = \"text-align: right;\">0</td><td style = \"text-align: right;\">0</td><td style = \"text-align: right;\">0</td><td style = \"text-align: right;\">0</td><td style = \"text-align: right;\">0</td><td style = \"text-align: right;\">0</td><td style = \"text-align: right;\">false</td><td style = \"text-align: right;\">false</td><td style = \"text-align: right;\">false</td><td style = \"text-align: right;\">1993</td><td style = \"text-align: right;\">2014</td><td style = \"text-align: right;\">2011</td><td style = \"text-align: right;\">2014</td><td style = \"text-align: right;\">2017</td><td style = \"text-align: right;\">false</td><td style = \"text-align: right;\">true</td><td style = \"text-align: right;\">false</td><td style = \"text-align: right;\">false</td><td style = \"text-align: right;\">true</td><td style = \"text-align: right;\">true</td><td style = \"text-align: right;\">false</td><td style = \"text-align: right;\">false</td><td style = \"text-align: right;\">false</td><td style = \"text-align: right;\">false</td><td style = \"text-align: right;\">false</td><td style = \"text-align: right;\">false</td><td style = \"text-align: right;\">false</td><td style = \"text-align: right;\">true</td><td style = \"text-align: right;\">false</td><td style = \"text-align: right;\">false</td><td style = \"text-align: right;\">false</td><td style = \"text-align: right;\">false</td><td style = \"text-align: right;\">false</td><td style = \"text-align: right;\">false</td><td style = \"text-align: right;\">true</td><td style = \"text-align: right;\">false</td><td style = \"text-align: right;\">true</td><td style = \"text-align: right;\">false</td><td style = \"text-align: right;\">false</td><td style = \"text-align: right;\">false</td><td style = \"text-align: right;\">false</td><td style = \"text-align: right;\">true</td><td style = \"text-align: right;\">false</td><td style = \"text-align: right;\">false</td><td style = \"text-align: right;\">false</td><td style = \"text-align: right;\">false</td><td style = \"text-align: right;\">true</td><td style = \"text-align: right;\">false</td><td style = \"text-align: right;\">false</td><td style = \"text-align: right;\">false</td><td style = \"text-align: right;\">false</td><td style = \"text-align: right;\">false</td><td style = \"text-align: right;\">false</td><td style = \"text-align: right;\">false</td><td style = \"text-align: right;\">false</td><td style = \"text-align: right;\">true</td><td style = \"text-align: right;\">false</td><td style = \"text-align: right;\">false</td><td style = \"text-align: right;\">false</td><td style = \"text-align: right;\">false</td><td style = \"text-align: right;\">false</td><td style = \"text-align: right;\">&ctdot;</td></tr><tr><td class = \"rowNumber\" style = \"font-weight: bold; text-align: right;\">10</td><td style = \"text-align: right;\">115642</td><td style = \"text-align: right;\">234102</td><td style = \"text-align: right;\">0</td><td style = \"text-align: right;\">180000.0</td><td style = \"text-align: right;\">337500.0</td><td style = \"text-align: right;\">16875.0</td><td style = \"text-align: right;\">337500.0</td><td style = \"text-align: right;\">0.031329</td><td style = \"text-align: right;\">8.0</td><td style = \"text-align: right;\">1</td><td style = \"text-align: right;\">1</td><td style = \"text-align: right;\">1</td><td style = \"text-align: right;\">1</td><td style = \"text-align: right;\">1</td><td style = \"text-align: right;\">0</td><td style = \"text-align: right;\">2.0</td><td style = \"text-align: right;\">2</td><td style = \"text-align: right;\">2</td><td style = \"text-align: right;\">8</td><td style = \"text-align: right;\">0</td><td style = \"text-align: right;\">0</td><td style = \"text-align: right;\">0</td><td style = \"text-align: right;\">0</td><td style = \"text-align: right;\">0</td><td style = \"text-align: right;\">0</td><td style = \"text-align: right;\">0</td><td style = \"text-align: right;\">0</td><td style = \"text-align: right;\">0</td><td style = \"text-align: right;\">0</td><td style = \"text-align: right;\">0</td><td style = \"text-align: right;\">0</td><td style = \"text-align: right;\">0</td><td style = \"text-align: right;\">0</td><td style = \"text-align: right;\">0</td><td style = \"text-align: right;\">0</td><td style = \"text-align: right;\">0</td><td style = \"text-align: right;\">0</td><td style = \"text-align: right;\">0</td><td style = \"text-align: right;\">0</td><td style = \"text-align: right;\">0</td><td style = \"text-align: right;\">0</td><td style = \"text-align: right;\">0</td><td style = \"text-align: right;\">0</td><td style = \"text-align: right;\">0</td><td style = \"text-align: right;\">0</td><td style = \"text-align: right;\">false</td><td style = \"text-align: right;\">false</td><td style = \"text-align: right;\">false</td><td style = \"text-align: right;\">1960</td><td style = \"text-align: right;\">2009</td><td style = \"text-align: right;\">2005</td><td style = \"text-align: right;\">2005</td><td style = \"text-align: right;\">2012</td><td style = \"text-align: right;\">false</td><td style = \"text-align: right;\">true</td><td style = \"text-align: right;\">false</td><td style = \"text-align: right;\">false</td><td style = \"text-align: right;\">true</td><td style = \"text-align: right;\">false</td><td style = \"text-align: right;\">true</td><td style = \"text-align: right;\">false</td><td style = \"text-align: right;\">false</td><td style = \"text-align: right;\">false</td><td style = \"text-align: right;\">false</td><td style = \"text-align: right;\">false</td><td style = \"text-align: right;\">false</td><td style = \"text-align: right;\">true</td><td style = \"text-align: right;\">false</td><td style = \"text-align: right;\">false</td><td style = \"text-align: right;\">false</td><td style = \"text-align: right;\">false</td><td style = \"text-align: right;\">false</td><td style = \"text-align: right;\">false</td><td style = \"text-align: right;\">true</td><td style = \"text-align: right;\">false</td><td style = \"text-align: right;\">false</td><td style = \"text-align: right;\">false</td><td style = \"text-align: right;\">false</td><td style = \"text-align: right;\">true</td><td style = \"text-align: right;\">false</td><td style = \"text-align: right;\">true</td><td style = \"text-align: right;\">false</td><td style = \"text-align: right;\">false</td><td style = \"text-align: right;\">false</td><td style = \"text-align: right;\">false</td><td style = \"text-align: right;\">true</td><td style = \"text-align: right;\">false</td><td style = \"text-align: right;\">false</td><td style = \"text-align: right;\">false</td><td style = \"text-align: right;\">false</td><td style = \"text-align: right;\">false</td><td style = \"text-align: right;\">false</td><td style = \"text-align: right;\">false</td><td style = \"text-align: right;\">false</td><td style = \"text-align: right;\">false</td><td style = \"text-align: right;\">false</td><td style = \"text-align: right;\">false</td><td style = \"text-align: right;\">false</td><td style = \"text-align: right;\">false</td><td style = \"text-align: right;\">false</td><td style = \"text-align: right;\">&ctdot;</td></tr><tr><td class = \"rowNumber\" style = \"font-weight: bold; text-align: right;\">11</td><td style = \"text-align: right;\">284539</td><td style = \"text-align: right;\">429534</td><td style = \"text-align: right;\">1</td><td style = \"text-align: right;\">135000.0</td><td style = \"text-align: right;\">270000.0</td><td style = \"text-align: right;\">13500.0</td><td style = \"text-align: right;\">270000.0</td><td style = \"text-align: right;\">0.010643</td><td style = \"text-align: right;\">8.0</td><td style = \"text-align: right;\">1</td><td style = \"text-align: right;\">1</td><td style = \"text-align: right;\">0</td><td style = \"text-align: right;\">1</td><td style = \"text-align: right;\">0</td><td style = \"text-align: right;\">0</td><td style = \"text-align: right;\">3.0</td><td style = \"text-align: right;\">2</td><td style = \"text-align: right;\">2</td><td style = \"text-align: right;\">13</td><td style = \"text-align: right;\">0</td><td style = \"text-align: right;\">1</td><td style = \"text-align: right;\">1</td><td style = \"text-align: right;\">0</td><td style = \"text-align: right;\">0</td><td style = \"text-align: right;\">0</td><td style = \"text-align: right;\">0</td><td style = \"text-align: right;\">0</td><td style = \"text-align: right;\">0</td><td style = \"text-align: right;\">0</td><td style = \"text-align: right;\">0</td><td style = \"text-align: right;\">0</td><td style = \"text-align: right;\">0</td><td style = \"text-align: right;\">0</td><td style = \"text-align: right;\">0</td><td style = \"text-align: right;\">0</td><td style = \"text-align: right;\">0</td><td style = \"text-align: right;\">0</td><td style = \"text-align: right;\">0</td><td style = \"text-align: right;\">0</td><td style = \"text-align: right;\">0</td><td style = \"text-align: right;\">0</td><td style = \"text-align: right;\">0</td><td style = \"text-align: right;\">0</td><td style = \"text-align: right;\">0</td><td style = \"text-align: right;\">0</td><td style = \"text-align: right;\">false</td><td style = \"text-align: right;\">false</td><td style = \"text-align: right;\">false</td><td style = \"text-align: right;\">1988</td><td style = \"text-align: right;\">2010</td><td style = \"text-align: right;\">1997</td><td style = \"text-align: right;\">2018</td><td style = \"text-align: right;\">2018</td><td style = \"text-align: right;\">true</td><td style = \"text-align: right;\">false</td><td style = \"text-align: right;\">false</td><td style = \"text-align: right;\">false</td><td style = \"text-align: right;\">true</td><td style = \"text-align: right;\">false</td><td style = \"text-align: right;\">true</td><td style = \"text-align: right;\">false</td><td style = \"text-align: right;\">true</td><td style = \"text-align: right;\">false</td><td style = \"text-align: right;\">false</td><td style = \"text-align: right;\">false</td><td style = \"text-align: right;\">false</td><td style = \"text-align: right;\">false</td><td style = \"text-align: right;\">false</td><td style = \"text-align: right;\">false</td><td style = \"text-align: right;\">false</td><td style = \"text-align: right;\">false</td><td style = \"text-align: right;\">false</td><td style = \"text-align: right;\">false</td><td style = \"text-align: right;\">true</td><td style = \"text-align: right;\">false</td><td style = \"text-align: right;\">false</td><td style = \"text-align: right;\">false</td><td style = \"text-align: right;\">false</td><td style = \"text-align: right;\">true</td><td style = \"text-align: right;\">false</td><td style = \"text-align: right;\">true</td><td style = \"text-align: right;\">false</td><td style = \"text-align: right;\">false</td><td style = \"text-align: right;\">false</td><td style = \"text-align: right;\">false</td><td style = \"text-align: right;\">true</td><td style = \"text-align: right;\">false</td><td style = \"text-align: right;\">false</td><td style = \"text-align: right;\">false</td><td style = \"text-align: right;\">false</td><td style = \"text-align: right;\">false</td><td style = \"text-align: right;\">false</td><td style = \"text-align: right;\">false</td><td style = \"text-align: right;\">false</td><td style = \"text-align: right;\">false</td><td style = \"text-align: right;\">false</td><td style = \"text-align: right;\">false</td><td style = \"text-align: right;\">false</td><td style = \"text-align: right;\">false</td><td style = \"text-align: right;\">false</td><td style = \"text-align: right;\">&ctdot;</td></tr><tr><td class = \"rowNumber\" style = \"font-weight: bold; text-align: right;\">12</td><td style = \"text-align: right;\">192048</td><td style = \"text-align: right;\">322696</td><td style = \"text-align: right;\">0</td><td style = \"text-align: right;\">225000.0</td><td style = \"text-align: right;\">1.01984e6</td><td style = \"text-align: right;\">57078.0</td><td style = \"text-align: right;\">945000.0</td><td style = \"text-align: right;\">0.008625</td><td style = \"text-align: right;\">-1.0</td><td style = \"text-align: right;\">1</td><td style = \"text-align: right;\">1</td><td style = \"text-align: right;\">1</td><td style = \"text-align: right;\">1</td><td style = \"text-align: right;\">1</td><td style = \"text-align: right;\">0</td><td style = \"text-align: right;\">2.0</td><td style = \"text-align: right;\">2</td><td style = \"text-align: right;\">2</td><td style = \"text-align: right;\">9</td><td style = \"text-align: right;\">1</td><td style = \"text-align: right;\">1</td><td style = \"text-align: right;\">0</td><td style = \"text-align: right;\">1</td><td style = \"text-align: right;\">1</td><td style = \"text-align: right;\">0</td><td style = \"text-align: right;\">0</td><td style = \"text-align: right;\">1</td><td style = \"text-align: right;\">0</td><td style = \"text-align: right;\">0</td><td style = \"text-align: right;\">0</td><td style = \"text-align: right;\">0</td><td style = \"text-align: right;\">0</td><td style = \"text-align: right;\">0</td><td style = \"text-align: right;\">0</td><td style = \"text-align: right;\">0</td><td style = \"text-align: right;\">0</td><td style = \"text-align: right;\">0</td><td style = \"text-align: right;\">0</td><td style = \"text-align: right;\">0</td><td style = \"text-align: right;\">0</td><td style = \"text-align: right;\">0</td><td style = \"text-align: right;\">0</td><td style = \"text-align: right;\">0</td><td style = \"text-align: right;\">0</td><td style = \"text-align: right;\">0</td><td style = \"text-align: right;\">false</td><td style = \"text-align: right;\">false</td><td style = \"text-align: right;\">false</td><td style = \"text-align: right;\">1983</td><td style = \"text-align: right;\">2019</td><td style = \"text-align: right;\">1999</td><td style = \"text-align: right;\">2007</td><td style = \"text-align: right;\">2012</td><td style = \"text-align: right;\">true</td><td style = \"text-align: right;\">false</td><td style = \"text-align: right;\">false</td><td style = \"text-align: right;\">true</td><td style = \"text-align: right;\">false</td><td style = \"text-align: right;\">false</td><td style = \"text-align: right;\">true</td><td style = \"text-align: right;\">false</td><td style = \"text-align: right;\">false</td><td style = \"text-align: right;\">false</td><td style = \"text-align: right;\">false</td><td style = \"text-align: right;\">false</td><td style = \"text-align: right;\">false</td><td style = \"text-align: right;\">true</td><td style = \"text-align: right;\">false</td><td style = \"text-align: right;\">false</td><td style = \"text-align: right;\">false</td><td style = \"text-align: right;\">false</td><td style = \"text-align: right;\">true</td><td style = \"text-align: right;\">false</td><td style = \"text-align: right;\">false</td><td style = \"text-align: right;\">false</td><td style = \"text-align: right;\">false</td><td style = \"text-align: right;\">false</td><td style = \"text-align: right;\">false</td><td style = \"text-align: right;\">true</td><td style = \"text-align: right;\">false</td><td style = \"text-align: right;\">true</td><td style = \"text-align: right;\">false</td><td style = \"text-align: right;\">false</td><td style = \"text-align: right;\">false</td><td style = \"text-align: right;\">false</td><td style = \"text-align: right;\">true</td><td style = \"text-align: right;\">false</td><td style = \"text-align: right;\">false</td><td style = \"text-align: right;\">false</td><td style = \"text-align: right;\">false</td><td style = \"text-align: right;\">false</td><td style = \"text-align: right;\">false</td><td style = \"text-align: right;\">false</td><td style = \"text-align: right;\">false</td><td style = \"text-align: right;\">false</td><td style = \"text-align: right;\">false</td><td style = \"text-align: right;\">false</td><td style = \"text-align: right;\">false</td><td style = \"text-align: right;\">false</td><td style = \"text-align: right;\">false</td><td style = \"text-align: right;\">&ctdot;</td></tr><tr><td class = \"rowNumber\" style = \"font-weight: bold; text-align: right;\">13</td><td style = \"text-align: right;\">92693</td><td style = \"text-align: right;\">207627</td><td style = \"text-align: right;\">0</td><td style = \"text-align: right;\">103500.0</td><td style = \"text-align: right;\">6.8809e5</td><td style = \"text-align: right;\">24714.0</td><td style = \"text-align: right;\">594000.0</td><td style = \"text-align: right;\">0.031329</td><td style = \"text-align: right;\">64.0</td><td style = \"text-align: right;\">1</td><td style = \"text-align: right;\">1</td><td style = \"text-align: right;\">0</td><td style = \"text-align: right;\">1</td><td style = \"text-align: right;\">0</td><td style = \"text-align: right;\">0</td><td style = \"text-align: right;\">1.0</td><td style = \"text-align: right;\">2</td><td style = \"text-align: right;\">2</td><td style = \"text-align: right;\">15</td><td style = \"text-align: right;\">0</td><td style = \"text-align: right;\">0</td><td style = \"text-align: right;\">0</td><td style = \"text-align: right;\">0</td><td style = \"text-align: right;\">0</td><td style = \"text-align: right;\">0</td><td style = \"text-align: right;\">0</td><td style = \"text-align: right;\">1</td><td style = \"text-align: right;\">0</td><td style = \"text-align: right;\">0</td><td style = \"text-align: right;\">0</td><td style = \"text-align: right;\">0</td><td style = \"text-align: right;\">0</td><td style = \"text-align: right;\">0</td><td style = \"text-align: right;\">0</td><td style = \"text-align: right;\">0</td><td style = \"text-align: right;\">0</td><td style = \"text-align: right;\">0</td><td style = \"text-align: right;\">0</td><td style = \"text-align: right;\">0</td><td style = \"text-align: right;\">0</td><td style = \"text-align: right;\">0</td><td style = \"text-align: right;\">0</td><td style = \"text-align: right;\">0</td><td style = \"text-align: right;\">0</td><td style = \"text-align: right;\">0</td><td style = \"text-align: right;\">false</td><td style = \"text-align: right;\">false</td><td style = \"text-align: right;\">false</td><td style = \"text-align: right;\">1977</td><td style = \"text-align: right;\">2017</td><td style = \"text-align: right;\">1999</td><td style = \"text-align: right;\">2007</td><td style = \"text-align: right;\">2018</td><td style = \"text-align: right;\">false</td><td style = \"text-align: right;\">true</td><td style = \"text-align: right;\">false</td><td style = \"text-align: right;\">false</td><td style = \"text-align: right;\">true</td><td style = \"text-align: right;\">false</td><td style = \"text-align: right;\">true</td><td style = \"text-align: right;\">false</td><td style = \"text-align: right;\">false</td><td style = \"text-align: right;\">false</td><td style = \"text-align: right;\">false</td><td style = \"text-align: right;\">false</td><td style = \"text-align: right;\">false</td><td style = \"text-align: right;\">true</td><td style = \"text-align: right;\">false</td><td style = \"text-align: right;\">false</td><td style = \"text-align: right;\">false</td><td style = \"text-align: right;\">false</td><td style = \"text-align: right;\">false</td><td style = \"text-align: right;\">false</td><td style = \"text-align: right;\">true</td><td style = \"text-align: right;\">false</td><td style = \"text-align: right;\">false</td><td style = \"text-align: right;\">false</td><td style = \"text-align: right;\">false</td><td style = \"text-align: right;\">true</td><td style = \"text-align: right;\">false</td><td style = \"text-align: right;\">false</td><td style = \"text-align: right;\">false</td><td style = \"text-align: right;\">false</td><td style = \"text-align: right;\">true</td><td style = \"text-align: right;\">false</td><td style = \"text-align: right;\">true</td><td style = \"text-align: right;\">false</td><td style = \"text-align: right;\">false</td><td style = \"text-align: right;\">false</td><td style = \"text-align: right;\">false</td><td style = \"text-align: right;\">false</td><td style = \"text-align: right;\">false</td><td style = \"text-align: right;\">false</td><td style = \"text-align: right;\">false</td><td style = \"text-align: right;\">false</td><td style = \"text-align: right;\">false</td><td style = \"text-align: right;\">false</td><td style = \"text-align: right;\">false</td><td style = \"text-align: right;\">false</td><td style = \"text-align: right;\">false</td><td style = \"text-align: right;\">&ctdot;</td></tr><tr><td style = \"text-align: right;\">&vellip;</td><td style = \"text-align: right;\">&vellip;</td><td style = \"text-align: right;\">&vellip;</td><td style = \"text-align: right;\">&vellip;</td><td style = \"text-align: right;\">&vellip;</td><td style = \"text-align: right;\">&vellip;</td><td style = \"text-align: right;\">&vellip;</td><td style = \"text-align: right;\">&vellip;</td><td style = \"text-align: right;\">&vellip;</td><td style = \"text-align: right;\">&vellip;</td><td style = \"text-align: right;\">&vellip;</td><td style = \"text-align: right;\">&vellip;</td><td style = \"text-align: right;\">&vellip;</td><td style = \"text-align: right;\">&vellip;</td><td style = \"text-align: right;\">&vellip;</td><td style = \"text-align: right;\">&vellip;</td><td style = \"text-align: right;\">&vellip;</td><td style = \"text-align: right;\">&vellip;</td><td style = \"text-align: right;\">&vellip;</td><td style = \"text-align: right;\">&vellip;</td><td style = \"text-align: right;\">&vellip;</td><td style = \"text-align: right;\">&vellip;</td><td style = \"text-align: right;\">&vellip;</td><td style = \"text-align: right;\">&vellip;</td><td style = \"text-align: right;\">&vellip;</td><td style = \"text-align: right;\">&vellip;</td><td style = \"text-align: right;\">&vellip;</td><td style = \"text-align: right;\">&vellip;</td><td style = \"text-align: right;\">&vellip;</td><td style = \"text-align: right;\">&vellip;</td><td style = \"text-align: right;\">&vellip;</td><td style = \"text-align: right;\">&vellip;</td><td style = \"text-align: right;\">&vellip;</td><td style = \"text-align: right;\">&vellip;</td><td style = \"text-align: right;\">&vellip;</td><td style = \"text-align: right;\">&vellip;</td><td style = \"text-align: right;\">&vellip;</td><td style = \"text-align: right;\">&vellip;</td><td style = \"text-align: right;\">&vellip;</td><td style = \"text-align: right;\">&vellip;</td><td style = \"text-align: right;\">&vellip;</td><td style = \"text-align: right;\">&vellip;</td><td style = \"text-align: right;\">&vellip;</td><td style = \"text-align: right;\">&vellip;</td><td style = \"text-align: right;\">&vellip;</td><td style = \"text-align: right;\">&vellip;</td><td style = \"text-align: right;\">&vellip;</td><td style = \"text-align: right;\">&vellip;</td><td style = \"text-align: right;\">&vellip;</td><td style = \"text-align: right;\">&vellip;</td><td style = \"text-align: right;\">&vellip;</td><td style = \"text-align: right;\">&vellip;</td><td style = \"text-align: right;\">&vellip;</td><td style = \"text-align: right;\">&vellip;</td><td style = \"text-align: right;\">&vellip;</td><td style = \"text-align: right;\">&vellip;</td><td style = \"text-align: right;\">&vellip;</td><td style = \"text-align: right;\">&vellip;</td><td style = \"text-align: right;\">&vellip;</td><td style = \"text-align: right;\">&vellip;</td><td style = \"text-align: right;\">&vellip;</td><td style = \"text-align: right;\">&vellip;</td><td style = \"text-align: right;\">&vellip;</td><td style = \"text-align: right;\">&vellip;</td><td style = \"text-align: right;\">&vellip;</td><td style = \"text-align: right;\">&vellip;</td><td style = \"text-align: right;\">&vellip;</td><td style = \"text-align: right;\">&vellip;</td><td style = \"text-align: right;\">&vellip;</td><td style = \"text-align: right;\">&vellip;</td><td style = \"text-align: right;\">&vellip;</td><td style = \"text-align: right;\">&vellip;</td><td style = \"text-align: right;\">&vellip;</td><td style = \"text-align: right;\">&vellip;</td><td style = \"text-align: right;\">&vellip;</td><td style = \"text-align: right;\">&vellip;</td><td style = \"text-align: right;\">&vellip;</td><td style = \"text-align: right;\">&vellip;</td><td style = \"text-align: right;\">&vellip;</td><td style = \"text-align: right;\">&vellip;</td><td style = \"text-align: right;\">&vellip;</td><td style = \"text-align: right;\">&vellip;</td><td style = \"text-align: right;\">&vellip;</td><td style = \"text-align: right;\">&vellip;</td><td style = \"text-align: right;\">&vellip;</td><td style = \"text-align: right;\">&vellip;</td><td style = \"text-align: right;\">&vellip;</td><td style = \"text-align: right;\">&vellip;</td><td style = \"text-align: right;\">&vellip;</td><td style = \"text-align: right;\">&vellip;</td><td style = \"text-align: right;\">&vellip;</td><td style = \"text-align: right;\">&vellip;</td><td style = \"text-align: right;\">&vellip;</td><td style = \"text-align: right;\">&vellip;</td><td style = \"text-align: right;\">&vellip;</td><td style = \"text-align: right;\">&vellip;</td><td style = \"text-align: right;\">&vellip;</td><td style = \"text-align: right;\">&vellip;</td><td style = \"text-align: right;\">&vellip;</td><td style = \"text-align: right;\">&vellip;</td><td style = \"text-align: right;\">&vellip;</td><td style = \"text-align: right;\">&dtdot;</td></tr><tr><td class = \"rowNumber\" style = \"font-weight: bold; text-align: right;\">20597</td><td style = \"text-align: right;\">55765</td><td style = \"text-align: right;\">164612</td><td style = \"text-align: right;\">0</td><td style = \"text-align: right;\">200250.0</td><td style = \"text-align: right;\">585000.0</td><td style = \"text-align: right;\">29250.0</td><td style = \"text-align: right;\">585000.0</td><td style = \"text-align: right;\">0.0228</td><td style = \"text-align: right;\">-1.0</td><td style = \"text-align: right;\">1</td><td style = \"text-align: right;\">1</td><td style = \"text-align: right;\">1</td><td style = \"text-align: right;\">1</td><td style = \"text-align: right;\">1</td><td style = \"text-align: right;\">0</td><td style = \"text-align: right;\">2.0</td><td style = \"text-align: right;\">2</td><td style = \"text-align: right;\">2</td><td style = \"text-align: right;\">15</td><td style = \"text-align: right;\">0</td><td style = \"text-align: right;\">0</td><td style = \"text-align: right;\">0</td><td style = \"text-align: right;\">0</td><td style = \"text-align: right;\">0</td><td style = \"text-align: right;\">0</td><td style = \"text-align: right;\">0</td><td style = \"text-align: right;\">0</td><td style = \"text-align: right;\">0</td><td style = \"text-align: right;\">0</td><td style = \"text-align: right;\">0</td><td style = \"text-align: right;\">0</td><td style = \"text-align: right;\">0</td><td style = \"text-align: right;\">0</td><td style = \"text-align: right;\">0</td><td style = \"text-align: right;\">0</td><td style = \"text-align: right;\">0</td><td style = \"text-align: right;\">0</td><td style = \"text-align: right;\">0</td><td style = \"text-align: right;\">0</td><td style = \"text-align: right;\">0</td><td style = \"text-align: right;\">0</td><td style = \"text-align: right;\">0</td><td style = \"text-align: right;\">0</td><td style = \"text-align: right;\">0</td><td style = \"text-align: right;\">0</td><td style = \"text-align: right;\">false</td><td style = \"text-align: right;\">false</td><td style = \"text-align: right;\">false</td><td style = \"text-align: right;\">1968</td><td style = \"text-align: right;\">2013</td><td style = \"text-align: right;\">2015</td><td style = \"text-align: right;\">2013</td><td style = \"text-align: right;\">2018</td><td style = \"text-align: right;\">true</td><td style = \"text-align: right;\">false</td><td style = \"text-align: right;\">false</td><td style = \"text-align: right;\">true</td><td style = \"text-align: right;\">false</td><td style = \"text-align: right;\">false</td><td style = \"text-align: right;\">true</td><td style = \"text-align: right;\">false</td><td style = \"text-align: right;\">false</td><td style = \"text-align: right;\">false</td><td style = \"text-align: right;\">false</td><td style = \"text-align: right;\">false</td><td style = \"text-align: right;\">false</td><td style = \"text-align: right;\">true</td><td style = \"text-align: right;\">false</td><td style = \"text-align: right;\">false</td><td style = \"text-align: right;\">false</td><td style = \"text-align: right;\">false</td><td style = \"text-align: right;\">false</td><td style = \"text-align: right;\">false</td><td style = \"text-align: right;\">true</td><td style = \"text-align: right;\">false</td><td style = \"text-align: right;\">true</td><td style = \"text-align: right;\">false</td><td style = \"text-align: right;\">false</td><td style = \"text-align: right;\">false</td><td style = \"text-align: right;\">false</td><td style = \"text-align: right;\">true</td><td style = \"text-align: right;\">false</td><td style = \"text-align: right;\">false</td><td style = \"text-align: right;\">false</td><td style = \"text-align: right;\">false</td><td style = \"text-align: right;\">true</td><td style = \"text-align: right;\">false</td><td style = \"text-align: right;\">false</td><td style = \"text-align: right;\">false</td><td style = \"text-align: right;\">false</td><td style = \"text-align: right;\">false</td><td style = \"text-align: right;\">false</td><td style = \"text-align: right;\">false</td><td style = \"text-align: right;\">false</td><td style = \"text-align: right;\">false</td><td style = \"text-align: right;\">false</td><td style = \"text-align: right;\">false</td><td style = \"text-align: right;\">false</td><td style = \"text-align: right;\">false</td><td style = \"text-align: right;\">false</td><td style = \"text-align: right;\">&ctdot;</td></tr><tr><td class = \"rowNumber\" style = \"font-weight: bold; text-align: right;\">20598</td><td style = \"text-align: right;\">99154</td><td style = \"text-align: right;\">215122</td><td style = \"text-align: right;\">0</td><td style = \"text-align: right;\">225000.0</td><td style = \"text-align: right;\">675000.0</td><td style = \"text-align: right;\">36616.5</td><td style = \"text-align: right;\">675000.0</td><td style = \"text-align: right;\">0.011703</td><td style = \"text-align: right;\">2.0</td><td style = \"text-align: right;\">1</td><td style = \"text-align: right;\">1</td><td style = \"text-align: right;\">1</td><td style = \"text-align: right;\">1</td><td style = \"text-align: right;\">0</td><td style = \"text-align: right;\">0</td><td style = \"text-align: right;\">1.0</td><td style = \"text-align: right;\">2</td><td style = \"text-align: right;\">2</td><td style = \"text-align: right;\">11</td><td style = \"text-align: right;\">0</td><td style = \"text-align: right;\">0</td><td style = \"text-align: right;\">0</td><td style = \"text-align: right;\">0</td><td style = \"text-align: right;\">0</td><td style = \"text-align: right;\">0</td><td style = \"text-align: right;\">0</td><td style = \"text-align: right;\">1</td><td style = \"text-align: right;\">0</td><td style = \"text-align: right;\">0</td><td style = \"text-align: right;\">0</td><td style = \"text-align: right;\">0</td><td style = \"text-align: right;\">0</td><td style = \"text-align: right;\">0</td><td style = \"text-align: right;\">0</td><td style = \"text-align: right;\">0</td><td style = \"text-align: right;\">0</td><td style = \"text-align: right;\">0</td><td style = \"text-align: right;\">0</td><td style = \"text-align: right;\">0</td><td style = \"text-align: right;\">0</td><td style = \"text-align: right;\">0</td><td style = \"text-align: right;\">0</td><td style = \"text-align: right;\">0</td><td style = \"text-align: right;\">0</td><td style = \"text-align: right;\">0</td><td style = \"text-align: right;\">false</td><td style = \"text-align: right;\">false</td><td style = \"text-align: right;\">false</td><td style = \"text-align: right;\">1989</td><td style = \"text-align: right;\">2014</td><td style = \"text-align: right;\">2014</td><td style = \"text-align: right;\">2012</td><td style = \"text-align: right;\">2018</td><td style = \"text-align: right;\">false</td><td style = \"text-align: right;\">true</td><td style = \"text-align: right;\">false</td><td style = \"text-align: right;\">false</td><td style = \"text-align: right;\">true</td><td style = \"text-align: right;\">true</td><td style = \"text-align: right;\">false</td><td style = \"text-align: right;\">false</td><td style = \"text-align: right;\">false</td><td style = \"text-align: right;\">false</td><td style = \"text-align: right;\">false</td><td style = \"text-align: right;\">false</td><td style = \"text-align: right;\">false</td><td style = \"text-align: right;\">true</td><td style = \"text-align: right;\">false</td><td style = \"text-align: right;\">true</td><td style = \"text-align: right;\">false</td><td style = \"text-align: right;\">false</td><td style = \"text-align: right;\">false</td><td style = \"text-align: right;\">false</td><td style = \"text-align: right;\">false</td><td style = \"text-align: right;\">false</td><td style = \"text-align: right;\">false</td><td style = \"text-align: right;\">true</td><td style = \"text-align: right;\">false</td><td style = \"text-align: right;\">false</td><td style = \"text-align: right;\">false</td><td style = \"text-align: right;\">false</td><td style = \"text-align: right;\">true</td><td style = \"text-align: right;\">false</td><td style = \"text-align: right;\">false</td><td style = \"text-align: right;\">false</td><td style = \"text-align: right;\">true</td><td style = \"text-align: right;\">false</td><td style = \"text-align: right;\">false</td><td style = \"text-align: right;\">false</td><td style = \"text-align: right;\">false</td><td style = \"text-align: right;\">false</td><td style = \"text-align: right;\">false</td><td style = \"text-align: right;\">false</td><td style = \"text-align: right;\">false</td><td style = \"text-align: right;\">false</td><td style = \"text-align: right;\">false</td><td style = \"text-align: right;\">false</td><td style = \"text-align: right;\">false</td><td style = \"text-align: right;\">false</td><td style = \"text-align: right;\">false</td><td style = \"text-align: right;\">&ctdot;</td></tr><tr><td class = \"rowNumber\" style = \"font-weight: bold; text-align: right;\">20599</td><td style = \"text-align: right;\">112319</td><td style = \"text-align: right;\">230292</td><td style = \"text-align: right;\">0</td><td style = \"text-align: right;\">63000.0</td><td style = \"text-align: right;\">171000.0</td><td style = \"text-align: right;\">13837.5</td><td style = \"text-align: right;\">171000.0</td><td style = \"text-align: right;\">0.015221</td><td style = \"text-align: right;\">-1.0</td><td style = \"text-align: right;\">1</td><td style = \"text-align: right;\">1</td><td style = \"text-align: right;\">0</td><td style = \"text-align: right;\">1</td><td style = \"text-align: right;\">0</td><td style = \"text-align: right;\">0</td><td style = \"text-align: right;\">2.0</td><td style = \"text-align: right;\">2</td><td style = \"text-align: right;\">2</td><td style = \"text-align: right;\">15</td><td style = \"text-align: right;\">0</td><td style = \"text-align: right;\">0</td><td style = \"text-align: right;\">0</td><td style = \"text-align: right;\">0</td><td style = \"text-align: right;\">0</td><td style = \"text-align: right;\">0</td><td style = \"text-align: right;\">0</td><td style = \"text-align: right;\">1</td><td style = \"text-align: right;\">0</td><td style = \"text-align: right;\">0</td><td style = \"text-align: right;\">0</td><td style = \"text-align: right;\">0</td><td style = \"text-align: right;\">0</td><td style = \"text-align: right;\">0</td><td style = \"text-align: right;\">0</td><td style = \"text-align: right;\">0</td><td style = \"text-align: right;\">0</td><td style = \"text-align: right;\">0</td><td style = \"text-align: right;\">0</td><td style = \"text-align: right;\">0</td><td style = \"text-align: right;\">0</td><td style = \"text-align: right;\">0</td><td style = \"text-align: right;\">0</td><td style = \"text-align: right;\">0</td><td style = \"text-align: right;\">0</td><td style = \"text-align: right;\">0</td><td style = \"text-align: right;\">false</td><td style = \"text-align: right;\">false</td><td style = \"text-align: right;\">false</td><td style = \"text-align: right;\">1995</td><td style = \"text-align: right;\">2018</td><td style = \"text-align: right;\">1996</td><td style = \"text-align: right;\">2017</td><td style = \"text-align: right;\">2018</td><td style = \"text-align: right;\">true</td><td style = \"text-align: right;\">false</td><td style = \"text-align: right;\">false</td><td style = \"text-align: right;\">true</td><td style = \"text-align: right;\">false</td><td style = \"text-align: right;\">false</td><td style = \"text-align: right;\">true</td><td style = \"text-align: right;\">false</td><td style = \"text-align: right;\">true</td><td style = \"text-align: right;\">false</td><td style = \"text-align: right;\">false</td><td style = \"text-align: right;\">false</td><td style = \"text-align: right;\">false</td><td style = \"text-align: right;\">false</td><td style = \"text-align: right;\">false</td><td style = \"text-align: right;\">false</td><td style = \"text-align: right;\">false</td><td style = \"text-align: right;\">false</td><td style = \"text-align: right;\">false</td><td style = \"text-align: right;\">false</td><td style = \"text-align: right;\">true</td><td style = \"text-align: right;\">false</td><td style = \"text-align: right;\">false</td><td style = \"text-align: right;\">false</td><td style = \"text-align: right;\">true</td><td style = \"text-align: right;\">false</td><td style = \"text-align: right;\">true</td><td style = \"text-align: right;\">false</td><td style = \"text-align: right;\">false</td><td style = \"text-align: right;\">false</td><td style = \"text-align: right;\">false</td><td style = \"text-align: right;\">false</td><td style = \"text-align: right;\">true</td><td style = \"text-align: right;\">false</td><td style = \"text-align: right;\">false</td><td style = \"text-align: right;\">false</td><td style = \"text-align: right;\">false</td><td style = \"text-align: right;\">false</td><td style = \"text-align: right;\">false</td><td style = \"text-align: right;\">false</td><td style = \"text-align: right;\">false</td><td style = \"text-align: right;\">false</td><td style = \"text-align: right;\">false</td><td style = \"text-align: right;\">false</td><td style = \"text-align: right;\">false</td><td style = \"text-align: right;\">false</td><td style = \"text-align: right;\">false</td><td style = \"text-align: right;\">&ctdot;</td></tr><tr><td class = \"rowNumber\" style = \"font-weight: bold; text-align: right;\">20600</td><td style = \"text-align: right;\">232855</td><td style = \"text-align: right;\">369696</td><td style = \"text-align: right;\">0</td><td style = \"text-align: right;\">157500.0</td><td style = \"text-align: right;\">225000.0</td><td style = \"text-align: right;\">17775.0</td><td style = \"text-align: right;\">225000.0</td><td style = \"text-align: right;\">0.072508</td><td style = \"text-align: right;\">-1.0</td><td style = \"text-align: right;\">1</td><td style = \"text-align: right;\">1</td><td style = \"text-align: right;\">0</td><td style = \"text-align: right;\">1</td><td style = \"text-align: right;\">1</td><td style = \"text-align: right;\">0</td><td style = \"text-align: right;\">2.0</td><td style = \"text-align: right;\">1</td><td style = \"text-align: right;\">1</td><td style = \"text-align: right;\">11</td><td style = \"text-align: right;\">1</td><td style = \"text-align: right;\">1</td><td style = \"text-align: right;\">1</td><td style = \"text-align: right;\">1</td><td style = \"text-align: right;\">1</td><td style = \"text-align: right;\">1</td><td style = \"text-align: right;\">0</td><td style = \"text-align: right;\">1</td><td style = \"text-align: right;\">0</td><td style = \"text-align: right;\">0</td><td style = \"text-align: right;\">0</td><td style = \"text-align: right;\">0</td><td style = \"text-align: right;\">0</td><td style = \"text-align: right;\">0</td><td style = \"text-align: right;\">0</td><td style = \"text-align: right;\">0</td><td style = \"text-align: right;\">0</td><td style = \"text-align: right;\">0</td><td style = \"text-align: right;\">0</td><td style = \"text-align: right;\">0</td><td style = \"text-align: right;\">0</td><td style = \"text-align: right;\">0</td><td style = \"text-align: right;\">0</td><td style = \"text-align: right;\">0</td><td style = \"text-align: right;\">0</td><td style = \"text-align: right;\">0</td><td style = \"text-align: right;\">false</td><td style = \"text-align: right;\">false</td><td style = \"text-align: right;\">false</td><td style = \"text-align: right;\">1991</td><td style = \"text-align: right;\">2018</td><td style = \"text-align: right;\">2008</td><td style = \"text-align: right;\">2015</td><td style = \"text-align: right;\">2017</td><td style = \"text-align: right;\">false</td><td style = \"text-align: right;\">true</td><td style = \"text-align: right;\">false</td><td style = \"text-align: right;\">true</td><td style = \"text-align: right;\">false</td><td style = \"text-align: right;\">true</td><td style = \"text-align: right;\">false</td><td style = \"text-align: right;\">false</td><td style = \"text-align: right;\">false</td><td style = \"text-align: right;\">false</td><td style = \"text-align: right;\">false</td><td style = \"text-align: right;\">false</td><td style = \"text-align: right;\">false</td><td style = \"text-align: right;\">true</td><td style = \"text-align: right;\">false</td><td style = \"text-align: right;\">false</td><td style = \"text-align: right;\">false</td><td style = \"text-align: right;\">false</td><td style = \"text-align: right;\">false</td><td style = \"text-align: right;\">false</td><td style = \"text-align: right;\">true</td><td style = \"text-align: right;\">false</td><td style = \"text-align: right;\">false</td><td style = \"text-align: right;\">false</td><td style = \"text-align: right;\">false</td><td style = \"text-align: right;\">true</td><td style = \"text-align: right;\">false</td><td style = \"text-align: right;\">true</td><td style = \"text-align: right;\">false</td><td style = \"text-align: right;\">false</td><td style = \"text-align: right;\">false</td><td style = \"text-align: right;\">false</td><td style = \"text-align: right;\">true</td><td style = \"text-align: right;\">false</td><td style = \"text-align: right;\">false</td><td style = \"text-align: right;\">false</td><td style = \"text-align: right;\">false</td><td style = \"text-align: right;\">false</td><td style = \"text-align: right;\">false</td><td style = \"text-align: right;\">false</td><td style = \"text-align: right;\">false</td><td style = \"text-align: right;\">false</td><td style = \"text-align: right;\">false</td><td style = \"text-align: right;\">false</td><td style = \"text-align: right;\">false</td><td style = \"text-align: right;\">true</td><td style = \"text-align: right;\">false</td><td style = \"text-align: right;\">&ctdot;</td></tr><tr><td class = \"rowNumber\" style = \"font-weight: bold; text-align: right;\">20601</td><td style = \"text-align: right;\">243122</td><td style = \"text-align: right;\">381432</td><td style = \"text-align: right;\">0</td><td style = \"text-align: right;\">157500.0</td><td style = \"text-align: right;\">563877.0</td><td style = \"text-align: right;\">28921.5</td><td style = \"text-align: right;\">504000.0</td><td style = \"text-align: right;\">0.018634</td><td style = \"text-align: right;\">-1.0</td><td style = \"text-align: right;\">1</td><td style = \"text-align: right;\">1</td><td style = \"text-align: right;\">0</td><td style = \"text-align: right;\">1</td><td style = \"text-align: right;\">0</td><td style = \"text-align: right;\">0</td><td style = \"text-align: right;\">1.0</td><td style = \"text-align: right;\">2</td><td style = \"text-align: right;\">2</td><td style = \"text-align: right;\">15</td><td style = \"text-align: right;\">0</td><td style = \"text-align: right;\">0</td><td style = \"text-align: right;\">0</td><td style = \"text-align: right;\">0</td><td style = \"text-align: right;\">0</td><td style = \"text-align: right;\">0</td><td style = \"text-align: right;\">0</td><td style = \"text-align: right;\">1</td><td style = \"text-align: right;\">0</td><td style = \"text-align: right;\">0</td><td style = \"text-align: right;\">0</td><td style = \"text-align: right;\">0</td><td style = \"text-align: right;\">0</td><td style = \"text-align: right;\">0</td><td style = \"text-align: right;\">0</td><td style = \"text-align: right;\">0</td><td style = \"text-align: right;\">0</td><td style = \"text-align: right;\">0</td><td style = \"text-align: right;\">0</td><td style = \"text-align: right;\">0</td><td style = \"text-align: right;\">0</td><td style = \"text-align: right;\">0</td><td style = \"text-align: right;\">0</td><td style = \"text-align: right;\">0</td><td style = \"text-align: right;\">0</td><td style = \"text-align: right;\">0</td><td style = \"text-align: right;\">false</td><td style = \"text-align: right;\">false</td><td style = \"text-align: right;\">false</td><td style = \"text-align: right;\">1993</td><td style = \"text-align: right;\">2015</td><td style = \"text-align: right;\">1993</td><td style = \"text-align: right;\">2013</td><td style = \"text-align: right;\">2017</td><td style = \"text-align: right;\">false</td><td style = \"text-align: right;\">true</td><td style = \"text-align: right;\">false</td><td style = \"text-align: right;\">true</td><td style = \"text-align: right;\">false</td><td style = \"text-align: right;\">false</td><td style = \"text-align: right;\">true</td><td style = \"text-align: right;\">false</td><td style = \"text-align: right;\">false</td><td style = \"text-align: right;\">false</td><td style = \"text-align: right;\">false</td><td style = \"text-align: right;\">false</td><td style = \"text-align: right;\">false</td><td style = \"text-align: right;\">true</td><td style = \"text-align: right;\">false</td><td style = \"text-align: right;\">false</td><td style = \"text-align: right;\">false</td><td style = \"text-align: right;\">false</td><td style = \"text-align: right;\">false</td><td style = \"text-align: right;\">false</td><td style = \"text-align: right;\">true</td><td style = \"text-align: right;\">false</td><td style = \"text-align: right;\">false</td><td style = \"text-align: right;\">false</td><td style = \"text-align: right;\">false</td><td style = \"text-align: right;\">true</td><td style = \"text-align: right;\">false</td><td style = \"text-align: right;\">false</td><td style = \"text-align: right;\">true</td><td style = \"text-align: right;\">false</td><td style = \"text-align: right;\">false</td><td style = \"text-align: right;\">false</td><td style = \"text-align: right;\">false</td><td style = \"text-align: right;\">false</td><td style = \"text-align: right;\">false</td><td style = \"text-align: right;\">false</td><td style = \"text-align: right;\">true</td><td style = \"text-align: right;\">false</td><td style = \"text-align: right;\">false</td><td style = \"text-align: right;\">false</td><td style = \"text-align: right;\">false</td><td style = \"text-align: right;\">false</td><td style = \"text-align: right;\">false</td><td style = \"text-align: right;\">false</td><td style = \"text-align: right;\">false</td><td style = \"text-align: right;\">false</td><td style = \"text-align: right;\">false</td><td style = \"text-align: right;\">&ctdot;</td></tr><tr><td class = \"rowNumber\" style = \"font-weight: bold; text-align: right;\">20602</td><td style = \"text-align: right;\">33655</td><td style = \"text-align: right;\">138988</td><td style = \"text-align: right;\">0</td><td style = \"text-align: right;\">157500.0</td><td style = \"text-align: right;\">521280.0</td><td style = \"text-align: right;\">27423.0</td><td style = \"text-align: right;\">450000.0</td><td style = \"text-align: right;\">0.025164</td><td style = \"text-align: right;\">-1.0</td><td style = \"text-align: right;\">1</td><td style = \"text-align: right;\">1</td><td style = \"text-align: right;\">0</td><td style = \"text-align: right;\">1</td><td style = \"text-align: right;\">0</td><td style = \"text-align: right;\">0</td><td style = \"text-align: right;\">2.0</td><td style = \"text-align: right;\">2</td><td style = \"text-align: right;\">2</td><td style = \"text-align: right;\">12</td><td style = \"text-align: right;\">0</td><td style = \"text-align: right;\">0</td><td style = \"text-align: right;\">0</td><td style = \"text-align: right;\">0</td><td style = \"text-align: right;\">0</td><td style = \"text-align: right;\">0</td><td style = \"text-align: right;\">0</td><td style = \"text-align: right;\">1</td><td style = \"text-align: right;\">0</td><td style = \"text-align: right;\">0</td><td style = \"text-align: right;\">0</td><td style = \"text-align: right;\">0</td><td style = \"text-align: right;\">0</td><td style = \"text-align: right;\">0</td><td style = \"text-align: right;\">0</td><td style = \"text-align: right;\">0</td><td style = \"text-align: right;\">0</td><td style = \"text-align: right;\">0</td><td style = \"text-align: right;\">0</td><td style = \"text-align: right;\">0</td><td style = \"text-align: right;\">0</td><td style = \"text-align: right;\">0</td><td style = \"text-align: right;\">0</td><td style = \"text-align: right;\">0</td><td style = \"text-align: right;\">0</td><td style = \"text-align: right;\">0</td><td style = \"text-align: right;\">false</td><td style = \"text-align: right;\">false</td><td style = \"text-align: right;\">false</td><td style = \"text-align: right;\">1996</td><td style = \"text-align: right;\">2017</td><td style = \"text-align: right;\">2011</td><td style = \"text-align: right;\">2016</td><td style = \"text-align: right;\">2019</td><td style = \"text-align: right;\">false</td><td style = \"text-align: right;\">true</td><td style = \"text-align: right;\">false</td><td style = \"text-align: right;\">true</td><td style = \"text-align: right;\">false</td><td style = \"text-align: right;\">false</td><td style = \"text-align: right;\">true</td><td style = \"text-align: right;\">false</td><td style = \"text-align: right;\">false</td><td style = \"text-align: right;\">false</td><td style = \"text-align: right;\">false</td><td style = \"text-align: right;\">false</td><td style = \"text-align: right;\">false</td><td style = \"text-align: right;\">true</td><td style = \"text-align: right;\">false</td><td style = \"text-align: right;\">false</td><td style = \"text-align: right;\">false</td><td style = \"text-align: right;\">false</td><td style = \"text-align: right;\">false</td><td style = \"text-align: right;\">false</td><td style = \"text-align: right;\">true</td><td style = \"text-align: right;\">false</td><td style = \"text-align: right;\">false</td><td style = \"text-align: right;\">false</td><td style = \"text-align: right;\">false</td><td style = \"text-align: right;\">true</td><td style = \"text-align: right;\">true</td><td style = \"text-align: right;\">false</td><td style = \"text-align: right;\">false</td><td style = \"text-align: right;\">false</td><td style = \"text-align: right;\">false</td><td style = \"text-align: right;\">false</td><td style = \"text-align: right;\">true</td><td style = \"text-align: right;\">false</td><td style = \"text-align: right;\">false</td><td style = \"text-align: right;\">false</td><td style = \"text-align: right;\">false</td><td style = \"text-align: right;\">false</td><td style = \"text-align: right;\">false</td><td style = \"text-align: right;\">false</td><td style = \"text-align: right;\">true</td><td style = \"text-align: right;\">false</td><td style = \"text-align: right;\">false</td><td style = \"text-align: right;\">false</td><td style = \"text-align: right;\">false</td><td style = \"text-align: right;\">false</td><td style = \"text-align: right;\">false</td><td style = \"text-align: right;\">&ctdot;</td></tr><tr><td class = \"rowNumber\" style = \"font-weight: bold; text-align: right;\">20603</td><td style = \"text-align: right;\">123200</td><td style = \"text-align: right;\">242865</td><td style = \"text-align: right;\">0</td><td style = \"text-align: right;\">90000.0</td><td style = \"text-align: right;\">312768.0</td><td style = \"text-align: right;\">21897.0</td><td style = \"text-align: right;\">270000.0</td><td style = \"text-align: right;\">0.011703</td><td style = \"text-align: right;\">-1.0</td><td style = \"text-align: right;\">1</td><td style = \"text-align: right;\">1</td><td style = \"text-align: right;\">0</td><td style = \"text-align: right;\">1</td><td style = \"text-align: right;\">0</td><td style = \"text-align: right;\">0</td><td style = \"text-align: right;\">2.0</td><td style = \"text-align: right;\">2</td><td style = \"text-align: right;\">2</td><td style = \"text-align: right;\">12</td><td style = \"text-align: right;\">0</td><td style = \"text-align: right;\">0</td><td style = \"text-align: right;\">0</td><td style = \"text-align: right;\">0</td><td style = \"text-align: right;\">0</td><td style = \"text-align: right;\">0</td><td style = \"text-align: right;\">0</td><td style = \"text-align: right;\">1</td><td style = \"text-align: right;\">0</td><td style = \"text-align: right;\">0</td><td style = \"text-align: right;\">0</td><td style = \"text-align: right;\">0</td><td style = \"text-align: right;\">0</td><td style = \"text-align: right;\">0</td><td style = \"text-align: right;\">0</td><td style = \"text-align: right;\">0</td><td style = \"text-align: right;\">0</td><td style = \"text-align: right;\">0</td><td style = \"text-align: right;\">0</td><td style = \"text-align: right;\">0</td><td style = \"text-align: right;\">0</td><td style = \"text-align: right;\">0</td><td style = \"text-align: right;\">0</td><td style = \"text-align: right;\">0</td><td style = \"text-align: right;\">0</td><td style = \"text-align: right;\">0</td><td style = \"text-align: right;\">false</td><td style = \"text-align: right;\">false</td><td style = \"text-align: right;\">false</td><td style = \"text-align: right;\">1961</td><td style = \"text-align: right;\">2017</td><td style = \"text-align: right;\">1989</td><td style = \"text-align: right;\">2009</td><td style = \"text-align: right;\">2016</td><td style = \"text-align: right;\">true</td><td style = \"text-align: right;\">false</td><td style = \"text-align: right;\">false</td><td style = \"text-align: right;\">true</td><td style = \"text-align: right;\">false</td><td style = \"text-align: right;\">false</td><td style = \"text-align: right;\">true</td><td style = \"text-align: right;\">false</td><td style = \"text-align: right;\">false</td><td style = \"text-align: right;\">false</td><td style = \"text-align: right;\">false</td><td style = \"text-align: right;\">false</td><td style = \"text-align: right;\">false</td><td style = \"text-align: right;\">true</td><td style = \"text-align: right;\">false</td><td style = \"text-align: right;\">true</td><td style = \"text-align: right;\">false</td><td style = \"text-align: right;\">false</td><td style = \"text-align: right;\">false</td><td style = \"text-align: right;\">false</td><td style = \"text-align: right;\">false</td><td style = \"text-align: right;\">false</td><td style = \"text-align: right;\">false</td><td style = \"text-align: right;\">false</td><td style = \"text-align: right;\">false</td><td style = \"text-align: right;\">true</td><td style = \"text-align: right;\">true</td><td style = \"text-align: right;\">false</td><td style = \"text-align: right;\">false</td><td style = \"text-align: right;\">false</td><td style = \"text-align: right;\">false</td><td style = \"text-align: right;\">false</td><td style = \"text-align: right;\">true</td><td style = \"text-align: right;\">false</td><td style = \"text-align: right;\">false</td><td style = \"text-align: right;\">false</td><td style = \"text-align: right;\">false</td><td style = \"text-align: right;\">false</td><td style = \"text-align: right;\">true</td><td style = \"text-align: right;\">false</td><td style = \"text-align: right;\">false</td><td style = \"text-align: right;\">false</td><td style = \"text-align: right;\">false</td><td style = \"text-align: right;\">false</td><td style = \"text-align: right;\">false</td><td style = \"text-align: right;\">false</td><td style = \"text-align: right;\">false</td><td style = \"text-align: right;\">&ctdot;</td></tr><tr><td class = \"rowNumber\" style = \"font-weight: bold; text-align: right;\">20604</td><td style = \"text-align: right;\">233079</td><td style = \"text-align: right;\">369969</td><td style = \"text-align: right;\">0</td><td style = \"text-align: right;\">270000.0</td><td style = \"text-align: right;\">1.11384e6</td><td style = \"text-align: right;\">47322.0</td><td style = \"text-align: right;\">900000.0</td><td style = \"text-align: right;\">0.006233</td><td style = \"text-align: right;\">-1.0</td><td style = \"text-align: right;\">1</td><td style = \"text-align: right;\">1</td><td style = \"text-align: right;\">1</td><td style = \"text-align: right;\">1</td><td style = \"text-align: right;\">1</td><td style = \"text-align: right;\">0</td><td style = \"text-align: right;\">2.0</td><td style = \"text-align: right;\">2</td><td style = \"text-align: right;\">2</td><td style = \"text-align: right;\">10</td><td style = \"text-align: right;\">1</td><td style = \"text-align: right;\">1</td><td style = \"text-align: right;\">0</td><td style = \"text-align: right;\">1</td><td style = \"text-align: right;\">1</td><td style = \"text-align: right;\">0</td><td style = \"text-align: right;\">0</td><td style = \"text-align: right;\">1</td><td style = \"text-align: right;\">0</td><td style = \"text-align: right;\">0</td><td style = \"text-align: right;\">0</td><td style = \"text-align: right;\">0</td><td style = \"text-align: right;\">0</td><td style = \"text-align: right;\">0</td><td style = \"text-align: right;\">0</td><td style = \"text-align: right;\">0</td><td style = \"text-align: right;\">0</td><td style = \"text-align: right;\">0</td><td style = \"text-align: right;\">0</td><td style = \"text-align: right;\">0</td><td style = \"text-align: right;\">0</td><td style = \"text-align: right;\">0</td><td style = \"text-align: right;\">0</td><td style = \"text-align: right;\">0</td><td style = \"text-align: right;\">0</td><td style = \"text-align: right;\">0</td><td style = \"text-align: right;\">false</td><td style = \"text-align: right;\">false</td><td style = \"text-align: right;\">false</td><td style = \"text-align: right;\">1978</td><td style = \"text-align: right;\">2015</td><td style = \"text-align: right;\">1981</td><td style = \"text-align: right;\">2018</td><td style = \"text-align: right;\">2018</td><td style = \"text-align: right;\">true</td><td style = \"text-align: right;\">false</td><td style = \"text-align: right;\">false</td><td style = \"text-align: right;\">true</td><td style = \"text-align: right;\">false</td><td style = \"text-align: right;\">true</td><td style = \"text-align: right;\">false</td><td style = \"text-align: right;\">false</td><td style = \"text-align: right;\">false</td><td style = \"text-align: right;\">false</td><td style = \"text-align: right;\">false</td><td style = \"text-align: right;\">false</td><td style = \"text-align: right;\">false</td><td style = \"text-align: right;\">true</td><td style = \"text-align: right;\">false</td><td style = \"text-align: right;\">true</td><td style = \"text-align: right;\">false</td><td style = \"text-align: right;\">false</td><td style = \"text-align: right;\">false</td><td style = \"text-align: right;\">false</td><td style = \"text-align: right;\">false</td><td style = \"text-align: right;\">false</td><td style = \"text-align: right;\">true</td><td style = \"text-align: right;\">false</td><td style = \"text-align: right;\">false</td><td style = \"text-align: right;\">false</td><td style = \"text-align: right;\">false</td><td style = \"text-align: right;\">true</td><td style = \"text-align: right;\">false</td><td style = \"text-align: right;\">false</td><td style = \"text-align: right;\">false</td><td style = \"text-align: right;\">false</td><td style = \"text-align: right;\">false</td><td style = \"text-align: right;\">false</td><td style = \"text-align: right;\">false</td><td style = \"text-align: right;\">true</td><td style = \"text-align: right;\">false</td><td style = \"text-align: right;\">false</td><td style = \"text-align: right;\">false</td><td style = \"text-align: right;\">false</td><td style = \"text-align: right;\">true</td><td style = \"text-align: right;\">false</td><td style = \"text-align: right;\">false</td><td style = \"text-align: right;\">false</td><td style = \"text-align: right;\">false</td><td style = \"text-align: right;\">false</td><td style = \"text-align: right;\">false</td><td style = \"text-align: right;\">&ctdot;</td></tr><tr><td class = \"rowNumber\" style = \"font-weight: bold; text-align: right;\">20605</td><td style = \"text-align: right;\">25175</td><td style = \"text-align: right;\">129278</td><td style = \"text-align: right;\">0</td><td style = \"text-align: right;\">157500.0</td><td style = \"text-align: right;\">315000.0</td><td style = \"text-align: right;\">15750.0</td><td style = \"text-align: right;\">315000.0</td><td style = \"text-align: right;\">0.04622</td><td style = \"text-align: right;\">-1.0</td><td style = \"text-align: right;\">1</td><td style = \"text-align: right;\">1</td><td style = \"text-align: right;\">0</td><td style = \"text-align: right;\">1</td><td style = \"text-align: right;\">0</td><td style = \"text-align: right;\">1</td><td style = \"text-align: right;\">2.0</td><td style = \"text-align: right;\">1</td><td style = \"text-align: right;\">1</td><td style = \"text-align: right;\">12</td><td style = \"text-align: right;\">0</td><td style = \"text-align: right;\">0</td><td style = \"text-align: right;\">0</td><td style = \"text-align: right;\">0</td><td style = \"text-align: right;\">0</td><td style = \"text-align: right;\">0</td><td style = \"text-align: right;\">0</td><td style = \"text-align: right;\">0</td><td style = \"text-align: right;\">0</td><td style = \"text-align: right;\">0</td><td style = \"text-align: right;\">0</td><td style = \"text-align: right;\">0</td><td style = \"text-align: right;\">0</td><td style = \"text-align: right;\">0</td><td style = \"text-align: right;\">0</td><td style = \"text-align: right;\">0</td><td style = \"text-align: right;\">0</td><td style = \"text-align: right;\">0</td><td style = \"text-align: right;\">0</td><td style = \"text-align: right;\">0</td><td style = \"text-align: right;\">0</td><td style = \"text-align: right;\">0</td><td style = \"text-align: right;\">0</td><td style = \"text-align: right;\">0</td><td style = \"text-align: right;\">0</td><td style = \"text-align: right;\">0</td><td style = \"text-align: right;\">false</td><td style = \"text-align: right;\">false</td><td style = \"text-align: right;\">false</td><td style = \"text-align: right;\">1979</td><td style = \"text-align: right;\">1997</td><td style = \"text-align: right;\">1997</td><td style = \"text-align: right;\">2006</td><td style = \"text-align: right;\">2018</td><td style = \"text-align: right;\">true</td><td style = \"text-align: right;\">false</td><td style = \"text-align: right;\">false</td><td style = \"text-align: right;\">true</td><td style = \"text-align: right;\">false</td><td style = \"text-align: right;\">false</td><td style = \"text-align: right;\">true</td><td style = \"text-align: right;\">false</td><td style = \"text-align: right;\">false</td><td style = \"text-align: right;\">false</td><td style = \"text-align: right;\">false</td><td style = \"text-align: right;\">false</td><td style = \"text-align: right;\">false</td><td style = \"text-align: right;\">true</td><td style = \"text-align: right;\">false</td><td style = \"text-align: right;\">false</td><td style = \"text-align: right;\">false</td><td style = \"text-align: right;\">false</td><td style = \"text-align: right;\">false</td><td style = \"text-align: right;\">false</td><td style = \"text-align: right;\">true</td><td style = \"text-align: right;\">false</td><td style = \"text-align: right;\">false</td><td style = \"text-align: right;\">false</td><td style = \"text-align: right;\">false</td><td style = \"text-align: right;\">true</td><td style = \"text-align: right;\">true</td><td style = \"text-align: right;\">false</td><td style = \"text-align: right;\">false</td><td style = \"text-align: right;\">false</td><td style = \"text-align: right;\">false</td><td style = \"text-align: right;\">false</td><td style = \"text-align: right;\">true</td><td style = \"text-align: right;\">false</td><td style = \"text-align: right;\">false</td><td style = \"text-align: right;\">false</td><td style = \"text-align: right;\">false</td><td style = \"text-align: right;\">false</td><td style = \"text-align: right;\">false</td><td style = \"text-align: right;\">false</td><td style = \"text-align: right;\">false</td><td style = \"text-align: right;\">false</td><td style = \"text-align: right;\">false</td><td style = \"text-align: right;\">false</td><td style = \"text-align: right;\">false</td><td style = \"text-align: right;\">true</td><td style = \"text-align: right;\">false</td><td style = \"text-align: right;\">&ctdot;</td></tr><tr><td class = \"rowNumber\" style = \"font-weight: bold; text-align: right;\">20606</td><td style = \"text-align: right;\">113425</td><td style = \"text-align: right;\">231545</td><td style = \"text-align: right;\">2</td><td style = \"text-align: right;\">180000.0</td><td style = \"text-align: right;\">754740.0</td><td style = \"text-align: right;\">24475.5</td><td style = \"text-align: right;\">630000.0</td><td style = \"text-align: right;\">0.025164</td><td style = \"text-align: right;\">-1.0</td><td style = \"text-align: right;\">1</td><td style = \"text-align: right;\">1</td><td style = \"text-align: right;\">0</td><td style = \"text-align: right;\">1</td><td style = \"text-align: right;\">0</td><td style = \"text-align: right;\">0</td><td style = \"text-align: right;\">4.0</td><td style = \"text-align: right;\">2</td><td style = \"text-align: right;\">2</td><td style = \"text-align: right;\">8</td><td style = \"text-align: right;\">0</td><td style = \"text-align: right;\">0</td><td style = \"text-align: right;\">0</td><td style = \"text-align: right;\">0</td><td style = \"text-align: right;\">0</td><td style = \"text-align: right;\">0</td><td style = \"text-align: right;\">0</td><td style = \"text-align: right;\">1</td><td style = \"text-align: right;\">0</td><td style = \"text-align: right;\">0</td><td style = \"text-align: right;\">0</td><td style = \"text-align: right;\">0</td><td style = \"text-align: right;\">0</td><td style = \"text-align: right;\">0</td><td style = \"text-align: right;\">0</td><td style = \"text-align: right;\">0</td><td style = \"text-align: right;\">0</td><td style = \"text-align: right;\">0</td><td style = \"text-align: right;\">0</td><td style = \"text-align: right;\">0</td><td style = \"text-align: right;\">0</td><td style = \"text-align: right;\">0</td><td style = \"text-align: right;\">0</td><td style = \"text-align: right;\">0</td><td style = \"text-align: right;\">0</td><td style = \"text-align: right;\">0</td><td style = \"text-align: right;\">false</td><td style = \"text-align: right;\">false</td><td style = \"text-align: right;\">false</td><td style = \"text-align: right;\">1972</td><td style = \"text-align: right;\">2010</td><td style = \"text-align: right;\">2003</td><td style = \"text-align: right;\">2018</td><td style = \"text-align: right;\">2013</td><td style = \"text-align: right;\">false</td><td style = \"text-align: right;\">true</td><td style = \"text-align: right;\">false</td><td style = \"text-align: right;\">true</td><td style = \"text-align: right;\">false</td><td style = \"text-align: right;\">false</td><td style = \"text-align: right;\">true</td><td style = \"text-align: right;\">false</td><td style = \"text-align: right;\">false</td><td style = \"text-align: right;\">false</td><td style = \"text-align: right;\">false</td><td style = \"text-align: right;\">false</td><td style = \"text-align: right;\">false</td><td style = \"text-align: right;\">true</td><td style = \"text-align: right;\">false</td><td style = \"text-align: right;\">false</td><td style = \"text-align: right;\">false</td><td style = \"text-align: right;\">false</td><td style = \"text-align: right;\">false</td><td style = \"text-align: right;\">false</td><td style = \"text-align: right;\">true</td><td style = \"text-align: right;\">false</td><td style = \"text-align: right;\">true</td><td style = \"text-align: right;\">false</td><td style = \"text-align: right;\">false</td><td style = \"text-align: right;\">false</td><td style = \"text-align: right;\">false</td><td style = \"text-align: right;\">true</td><td style = \"text-align: right;\">false</td><td style = \"text-align: right;\">false</td><td style = \"text-align: right;\">false</td><td style = \"text-align: right;\">false</td><td style = \"text-align: right;\">true</td><td style = \"text-align: right;\">false</td><td style = \"text-align: right;\">false</td><td style = \"text-align: right;\">false</td><td style = \"text-align: right;\">false</td><td style = \"text-align: right;\">false</td><td style = \"text-align: right;\">false</td><td style = \"text-align: right;\">false</td><td style = \"text-align: right;\">false</td><td style = \"text-align: right;\">true</td><td style = \"text-align: right;\">false</td><td style = \"text-align: right;\">false</td><td style = \"text-align: right;\">false</td><td style = \"text-align: right;\">false</td><td style = \"text-align: right;\">false</td><td style = \"text-align: right;\">&ctdot;</td></tr><tr><td class = \"rowNumber\" style = \"font-weight: bold; text-align: right;\">20607</td><td style = \"text-align: right;\">199458</td><td style = \"text-align: right;\">331237</td><td style = \"text-align: right;\">2</td><td style = \"text-align: right;\">72000.0</td><td style = \"text-align: right;\">153000.0</td><td style = \"text-align: right;\">8140.5</td><td style = \"text-align: right;\">153000.0</td><td style = \"text-align: right;\">0.015221</td><td style = \"text-align: right;\">-1.0</td><td style = \"text-align: right;\">1</td><td style = \"text-align: right;\">1</td><td style = \"text-align: right;\">0</td><td style = \"text-align: right;\">1</td><td style = \"text-align: right;\">0</td><td style = \"text-align: right;\">0</td><td style = \"text-align: right;\">4.0</td><td style = \"text-align: right;\">2</td><td style = \"text-align: right;\">2</td><td style = \"text-align: right;\">9</td><td style = \"text-align: right;\">0</td><td style = \"text-align: right;\">0</td><td style = \"text-align: right;\">0</td><td style = \"text-align: right;\">0</td><td style = \"text-align: right;\">0</td><td style = \"text-align: right;\">0</td><td style = \"text-align: right;\">0</td><td style = \"text-align: right;\">1</td><td style = \"text-align: right;\">0</td><td style = \"text-align: right;\">0</td><td style = \"text-align: right;\">0</td><td style = \"text-align: right;\">0</td><td style = \"text-align: right;\">0</td><td style = \"text-align: right;\">0</td><td style = \"text-align: right;\">0</td><td style = \"text-align: right;\">0</td><td style = \"text-align: right;\">0</td><td style = \"text-align: right;\">0</td><td style = \"text-align: right;\">0</td><td style = \"text-align: right;\">0</td><td style = \"text-align: right;\">0</td><td style = \"text-align: right;\">0</td><td style = \"text-align: right;\">0</td><td style = \"text-align: right;\">0</td><td style = \"text-align: right;\">0</td><td style = \"text-align: right;\">0</td><td style = \"text-align: right;\">false</td><td style = \"text-align: right;\">false</td><td style = \"text-align: right;\">false</td><td style = \"text-align: right;\">1986</td><td style = \"text-align: right;\">2013</td><td style = \"text-align: right;\">2004</td><td style = \"text-align: right;\">2009</td><td style = \"text-align: right;\">2015</td><td style = \"text-align: right;\">false</td><td style = \"text-align: right;\">true</td><td style = \"text-align: right;\">false</td><td style = \"text-align: right;\">true</td><td style = \"text-align: right;\">false</td><td style = \"text-align: right;\">true</td><td style = \"text-align: right;\">false</td><td style = \"text-align: right;\">false</td><td style = \"text-align: right;\">false</td><td style = \"text-align: right;\">false</td><td style = \"text-align: right;\">false</td><td style = \"text-align: right;\">false</td><td style = \"text-align: right;\">false</td><td style = \"text-align: right;\">true</td><td style = \"text-align: right;\">false</td><td style = \"text-align: right;\">true</td><td style = \"text-align: right;\">false</td><td style = \"text-align: right;\">false</td><td style = \"text-align: right;\">false</td><td style = \"text-align: right;\">false</td><td style = \"text-align: right;\">false</td><td style = \"text-align: right;\">false</td><td style = \"text-align: right;\">false</td><td style = \"text-align: right;\">false</td><td style = \"text-align: right;\">false</td><td style = \"text-align: right;\">true</td><td style = \"text-align: right;\">false</td><td style = \"text-align: right;\">true</td><td style = \"text-align: right;\">false</td><td style = \"text-align: right;\">false</td><td style = \"text-align: right;\">false</td><td style = \"text-align: right;\">false</td><td style = \"text-align: right;\">true</td><td style = \"text-align: right;\">false</td><td style = \"text-align: right;\">false</td><td style = \"text-align: right;\">false</td><td style = \"text-align: right;\">false</td><td style = \"text-align: right;\">false</td><td style = \"text-align: right;\">false</td><td style = \"text-align: right;\">false</td><td style = \"text-align: right;\">false</td><td style = \"text-align: right;\">false</td><td style = \"text-align: right;\">false</td><td style = \"text-align: right;\">false</td><td style = \"text-align: right;\">false</td><td style = \"text-align: right;\">true</td><td style = \"text-align: right;\">false</td><td style = \"text-align: right;\">&ctdot;</td></tr><tr><td class = \"rowNumber\" style = \"font-weight: bold; text-align: right;\">20608</td><td style = \"text-align: right;\">302705</td><td style = \"text-align: right;\">450707</td><td style = \"text-align: right;\">0</td><td style = \"text-align: right;\">225000.0</td><td style = \"text-align: right;\">640080.0</td><td style = \"text-align: right;\">31261.5</td><td style = \"text-align: right;\">450000.0</td><td style = \"text-align: right;\">0.003818</td><td style = \"text-align: right;\">12.0</td><td style = \"text-align: right;\">1</td><td style = \"text-align: right;\">1</td><td style = \"text-align: right;\">1</td><td style = \"text-align: right;\">1</td><td style = \"text-align: right;\">0</td><td style = \"text-align: right;\">0</td><td style = \"text-align: right;\">2.0</td><td style = \"text-align: right;\">2</td><td style = \"text-align: right;\">2</td><td style = \"text-align: right;\">9</td><td style = \"text-align: right;\">0</td><td style = \"text-align: right;\">0</td><td style = \"text-align: right;\">0</td><td style = \"text-align: right;\">0</td><td style = \"text-align: right;\">0</td><td style = \"text-align: right;\">0</td><td style = \"text-align: right;\">0</td><td style = \"text-align: right;\">1</td><td style = \"text-align: right;\">0</td><td style = \"text-align: right;\">0</td><td style = \"text-align: right;\">0</td><td style = \"text-align: right;\">0</td><td style = \"text-align: right;\">0</td><td style = \"text-align: right;\">0</td><td style = \"text-align: right;\">0</td><td style = \"text-align: right;\">0</td><td style = \"text-align: right;\">0</td><td style = \"text-align: right;\">0</td><td style = \"text-align: right;\">0</td><td style = \"text-align: right;\">0</td><td style = \"text-align: right;\">0</td><td style = \"text-align: right;\">0</td><td style = \"text-align: right;\">0</td><td style = \"text-align: right;\">0</td><td style = \"text-align: right;\">0</td><td style = \"text-align: right;\">0</td><td style = \"text-align: right;\">false</td><td style = \"text-align: right;\">false</td><td style = \"text-align: right;\">false</td><td style = \"text-align: right;\">1981</td><td style = \"text-align: right;\">2019</td><td style = \"text-align: right;\">2013</td><td style = \"text-align: right;\">2006</td><td style = \"text-align: right;\">2018</td><td style = \"text-align: right;\">false</td><td style = \"text-align: right;\">true</td><td style = \"text-align: right;\">false</td><td style = \"text-align: right;\">false</td><td style = \"text-align: right;\">true</td><td style = \"text-align: right;\">true</td><td style = \"text-align: right;\">false</td><td style = \"text-align: right;\">false</td><td style = \"text-align: right;\">false</td><td style = \"text-align: right;\">false</td><td style = \"text-align: right;\">false</td><td style = \"text-align: right;\">false</td><td style = \"text-align: right;\">false</td><td style = \"text-align: right;\">true</td><td style = \"text-align: right;\">false</td><td style = \"text-align: right;\">false</td><td style = \"text-align: right;\">false</td><td style = \"text-align: right;\">false</td><td style = \"text-align: right;\">false</td><td style = \"text-align: right;\">false</td><td style = \"text-align: right;\">true</td><td style = \"text-align: right;\">false</td><td style = \"text-align: right;\">false</td><td style = \"text-align: right;\">false</td><td style = \"text-align: right;\">false</td><td style = \"text-align: right;\">true</td><td style = \"text-align: right;\">false</td><td style = \"text-align: right;\">true</td><td style = \"text-align: right;\">false</td><td style = \"text-align: right;\">false</td><td style = \"text-align: right;\">false</td><td style = \"text-align: right;\">false</td><td style = \"text-align: right;\">true</td><td style = \"text-align: right;\">false</td><td style = \"text-align: right;\">false</td><td style = \"text-align: right;\">false</td><td style = \"text-align: right;\">false</td><td style = \"text-align: right;\">false</td><td style = \"text-align: right;\">false</td><td style = \"text-align: right;\">false</td><td style = \"text-align: right;\">false</td><td style = \"text-align: right;\">false</td><td style = \"text-align: right;\">false</td><td style = \"text-align: right;\">false</td><td style = \"text-align: right;\">false</td><td style = \"text-align: right;\">true</td><td style = \"text-align: right;\">false</td><td style = \"text-align: right;\">&ctdot;</td></tr></tbody></table></div>"
      ],
      "text/latex": [
       "\\begin{tabular}{r|cccccccc}\n",
       "\t& Column1 & SK\\_ID\\_CURR & CNT\\_CHILDREN & AMT\\_INCOME\\_TOTAL & AMT\\_CREDIT & AMT\\_ANNUITY & AMT\\_GOODS\\_PRICE & \\\\\n",
       "\t\\hline\n",
       "\t& Int64 & Int64 & Int64 & Float64 & Float64 & Float64 & Float64 & \\\\\n",
       "\t\\hline\n",
       "\t1 & 179982 & 308574 & 0 & 270000.0 & 450000.0 & 24543.0 & 450000.0 & $\\dots$ \\\\\n",
       "\t2 & 237114 & 374640 & 0 & 54000.0 & 225000.0 & 11074.5 & 225000.0 & $\\dots$ \\\\\n",
       "\t3 & 245540 & 384153 & 0 & 135000.0 & 677664.0 & 43308.0 & 585000.0 & $\\dots$ \\\\\n",
       "\t4 & 176305 & 304291 & 2 & 81000.0 & 584766.0 & 24903.0 & 472500.0 & $\\dots$ \\\\\n",
       "\t5 & 51060 & 159128 & 1 & 193500.0 & 706500.0 & 36202.5 & 706500.0 & $\\dots$ \\\\\n",
       "\t6 & 162469 & 288354 & 0 & 180000.0 & 675000.0 & 32472.0 & 675000.0 & $\\dots$ \\\\\n",
       "\t7 & 148422 & 272093 & 1 & 135000.0 & 3.13438e5 & 21073.5 & 283500.0 & $\\dots$ \\\\\n",
       "\t8 & 291898 & 438162 & 1 & 180000.0 & 675000.0 & 49248.0 & 675000.0 & $\\dots$ \\\\\n",
       "\t9 & 185834 & 315428 & 1 & 243000.0 & 900000.0 & 35824.5 & 900000.0 & $\\dots$ \\\\\n",
       "\t10 & 115642 & 234102 & 0 & 180000.0 & 337500.0 & 16875.0 & 337500.0 & $\\dots$ \\\\\n",
       "\t11 & 284539 & 429534 & 1 & 135000.0 & 270000.0 & 13500.0 & 270000.0 & $\\dots$ \\\\\n",
       "\t12 & 192048 & 322696 & 0 & 225000.0 & 1.01984e6 & 57078.0 & 945000.0 & $\\dots$ \\\\\n",
       "\t13 & 92693 & 207627 & 0 & 103500.0 & 6.8809e5 & 24714.0 & 594000.0 & $\\dots$ \\\\\n",
       "\t14 & 276472 & 420398 & 0 & 117000.0 & 202500.0 & 10125.0 & 202500.0 & $\\dots$ \\\\\n",
       "\t15 & 241513 & 379663 & 1 & 157500.0 & 348264.0 & 41458.5 & 315000.0 & $\\dots$ \\\\\n",
       "\t16 & 255757 & 395947 & 1 & 247500.0 & 916470.0 & 32598.0 & 765000.0 & $\\dots$ \\\\\n",
       "\t17 & 253546 & 393388 & 1 & 225000.0 & 497520.0 & 59175.0 & 450000.0 & $\\dots$ \\\\\n",
       "\t18 & 40992 & 147473 & 0 & 157500.0 & 402048.0 & 20655.0 & 288000.0 & $\\dots$ \\\\\n",
       "\t19 & 6271 & 107320 & 1 & 193140.0 & 576837.0 & 15862.5 & 481500.0 & $\\dots$ \\\\\n",
       "\t20 & 63127 & 173214 & 1 & 265500.0 & 1.36565e6 & 39928.5 & 1.1925e6 & $\\dots$ \\\\\n",
       "\t21 & 54094 & 162670 & 2 & 90000.0 & 61128.0 & 6615.0 & 54000.0 & $\\dots$ \\\\\n",
       "\t22 & 45531 & 152732 & 1 & 180000.0 & 540000.0 & 27000.0 & 540000.0 & $\\dots$ \\\\\n",
       "\t23 & 105172 & 222039 & 2 & 360000.0 & 2.38145e6 & 88384.5 & 2.223e6 & $\\dots$ \\\\\n",
       "\t24 & 144976 & 268108 & 0 & 135000.0 & 261000.0 & 9967.5 & 261000.0 & $\\dots$ \\\\\n",
       "\t25 & 22130 & 125770 & 0 & 148500.0 & 808650.0 & 26217.0 & 675000.0 & $\\dots$ \\\\\n",
       "\t26 & 275628 & 419407 & 0 & 202500.0 & 9.4873e5 & 31482.0 & 819000.0 & $\\dots$ \\\\\n",
       "\t27 & 228396 & 364554 & 0 & 270000.0 & 535500.0 & 29178.0 & 535500.0 & $\\dots$ \\\\\n",
       "\t28 & 228292 & 364433 & 3 & 171000.0 & 691020.0 & 22419.0 & 495000.0 & $\\dots$ \\\\\n",
       "\t29 & 68206 & 179093 & 0 & 180000.0 & 7.15766e5 & 69858.0 & 688500.0 & $\\dots$ \\\\\n",
       "\t30 & 303121 & 451187 & 1 & 157500.0 & 747000.0 & 33754.5 & 747000.0 & $\\dots$ \\\\\n",
       "\t$\\dots$ & $\\dots$ & $\\dots$ & $\\dots$ & $\\dots$ & $\\dots$ & $\\dots$ & $\\dots$ &  \\\\\n",
       "\\end{tabular}\n"
      ],
      "text/plain": [
       "\u001b[1m20608×173 DataFrame\n",
       "\u001b[1m   Row │\u001b[1m Column1 \u001b[1m SK_ID_CURR \u001b[1m CNT_CHILDREN \u001b[1m AMT_INCOME_TOTAL \u001b[1m AMT_CREDIT     \u001b[1m  ⋯\n",
       "       │\u001b[90m Int64   \u001b[90m Int64      \u001b[90m Int64        \u001b[90m Float64          \u001b[90m Float64        \u001b[90m  ⋯\n",
       "───────┼────────────────────────────────────────────────────────────────────────\n",
       "     1 │  179982      308574             0          270000.0  450000.0         ⋯\n",
       "     2 │  237114      374640             0           54000.0  225000.0\n",
       "     3 │  245540      384153             0          135000.0  677664.0\n",
       "     4 │  176305      304291             2           81000.0  584766.0\n",
       "     5 │   51060      159128             1          193500.0  706500.0         ⋯\n",
       "     6 │  162469      288354             0          180000.0  675000.0\n",
       "     7 │  148422      272093             1          135000.0       3.13438e5\n",
       "     8 │  291898      438162             1          180000.0  675000.0\n",
       "     9 │  185834      315428             1          243000.0  900000.0         ⋯\n",
       "    10 │  115642      234102             0          180000.0  337500.0\n",
       "    11 │  284539      429534             1          135000.0  270000.0\n",
       "   ⋮   │    ⋮         ⋮            ⋮               ⋮                ⋮          ⋱\n",
       " 20599 │  112319      230292             0           63000.0  171000.0\n",
       " 20600 │  232855      369696             0          157500.0  225000.0         ⋯\n",
       " 20601 │  243122      381432             0          157500.0  563877.0\n",
       " 20602 │   33655      138988             0          157500.0  521280.0\n",
       " 20603 │  123200      242865             0           90000.0  312768.0\n",
       " 20604 │  233079      369969             0          270000.0       1.11384e6   ⋯\n",
       " 20605 │   25175      129278             0          157500.0  315000.0\n",
       " 20606 │  113425      231545             2          180000.0  754740.0\n",
       " 20607 │  199458      331237             2           72000.0  153000.0\n",
       " 20608 │  302705      450707             0          225000.0  640080.0         ⋯\n",
       "\u001b[36m                                              168 columns and 20587 rows omitted"
      ]
     },
     "execution_count": 2,
     "metadata": {},
     "output_type": "execute_result"
    }
   ],
   "source": [
    "X_train_default = CSV.read(\"../Data/X_train_default.csv\", DataFrame)\n",
    "X_test_default = CSV.read(\"../Data/X_test_default.csv\", DataFrame)\n",
    "y_train_default = CSV.read(\"../Data/y_train_default.csv\", DataFrame)\n",
    "y_test_default = CSV.read(\"../Data/y_test_default.csv\", DataFrame)\n",
    "y_train_default = y_train_default[!,\"TARGET\"]\n",
    "y_test_default = y_test_default[!,\"TARGET\"]\n",
    "X_train__default = select(X_train_default, Not([\"EXT_SOURCE_1\", \"EXT_SOURCE_2\", \"EXT_SOURCE_3\"]))\n",
    "X_test__default = select(X_test_default, Not([\"EXT_SOURCE_1\", \"EXT_SOURCE_2\", \"EXT_SOURCE_3\"]))"
   ]
  },
  {
   "cell_type": "markdown",
   "id": "7fe164e7-4326-400b-a9ff-ada9ed8ad74d",
   "metadata": {},
   "source": [
    "### OCT_regression"
   ]
  },
  {
   "cell_type": "code",
   "execution_count": 3,
   "id": "1eb2d0d2-b507-488e-a890-b97ea82d2f1e",
   "metadata": {},
   "outputs": [
    {
     "data": {
      "text/plain": [
       "GridSearch - Unfitted OptimalTreeClassifier:\n",
       "  minbucket:     10\n",
       "  refit_learner: GridSearch - Unfitted OptimalFeatureSelectionClassifier\n",
       "\n",
       "GridSearch Params:\n",
       "  (sparsity=1,)\n",
       "  (sparsity=2,)\n",
       "  (sparsity=3,)\n",
       "  random_seed:   1\n",
       "\n",
       "GridSearch Params:\n",
       "  (max_depth=1,)\n",
       "  (max_depth=2,)\n",
       "  (max_depth=3,)\n",
       "  (max_depth=4,)"
      ]
     },
     "execution_count": 3,
     "metadata": {},
     "output_type": "execute_result"
    }
   ],
   "source": [
    "grid_oct_r = IAI.GridSearch(\n",
    "    IAI.OptimalTreeClassifier(\n",
    "        random_seed=1,\n",
    "        minbucket=10,\n",
    "        refit_learner=IAI.GridSearch(\n",
    "            IAI.OptimalFeatureSelectionClassifier(),\n",
    "            sparsity=1:3,\n",
    "        ),\n",
    "    ),\n",
    "    max_depth=1:4,\n",
    ")"
   ]
  },
  {
   "cell_type": "code",
   "execution_count": null,
   "id": "1d79431c-8407-440a-89bd-23ccd9708e4d",
   "metadata": {},
   "outputs": [
    {
     "name": "stderr",
     "output_type": "stream",
     "text": [
      "\u001b[33m\u001b[1m[ \u001b[22m\u001b[39m\u001b[33m\u001b[1mWarning: \u001b[22m\u001b[39mThis copy of Interpretable AI software is for academic purposes only and not for commercial use.\n",
      "\u001b[33m\u001b[1m┌ \u001b[22m\u001b[39m\u001b[33m\u001b[1mWarning: \u001b[22m\u001b[39mInterpretable AI license expires soon: 2023-12-31T00:00:00. If you need to renew, please send us the following machine ID:\n",
      "\u001b[33m\u001b[1m└ \u001b[22m\u001b[39m6188fbeb8fca0fc6575c4f1bde01600265a480b47224e2af355dc5fa83100b9d\n"
     ]
    }
   ],
   "source": [
    "IAI.fit!(grid_oct_r, X_train_default, y_train_default)"
   ]
  },
  {
   "cell_type": "code",
   "execution_count": null,
   "id": "a1e22489-1d5e-4618-97f6-a57cafcb5be7",
   "metadata": {},
   "outputs": [],
   "source": [
    "IAI.score(grid_oct_r,X_test_default, y_test_default,criterion=:auc)"
   ]
  },
  {
   "cell_type": "markdown",
   "id": "5798cff4-0dcc-43e8-8987-8f0b3c03ee5e",
   "metadata": {},
   "source": [
    "### OCT"
   ]
  },
  {
   "cell_type": "code",
   "execution_count": null,
   "id": "acf82e98-2e3c-4e56-b65a-66b9a6eea147",
   "metadata": {},
   "outputs": [],
   "source": [
    "grid_oct = IAI.GridSearch(\n",
    "    IAI.OptimalTreeClassifier(\n",
    "        random_seed=1),\n",
    "    max_depth=1:7,\n",
    "    minbucket=10\n",
    ")"
   ]
  },
  {
   "cell_type": "code",
   "execution_count": null,
   "id": "64b10092-a92f-4581-9bd7-8206168120b4",
   "metadata": {},
   "outputs": [],
   "source": [
    "IAI.fit!(grid_oct, X_train_default, y_train_default)"
   ]
  },
  {
   "cell_type": "code",
   "execution_count": null,
   "id": "9c0a3b6e-350c-469d-9bcb-6902ba3c9eb2",
   "metadata": {},
   "outputs": [],
   "source": [
    "IAI.score(grid_oct,X_test_default, y_test_default,criterion=:auc)"
   ]
  },
  {
   "cell_type": "markdown",
   "id": "4874b886-8315-433d-81b2-d57e19f172f2",
   "metadata": {},
   "source": [
    "### ORT"
   ]
  },
  {
   "cell_type": "code",
   "execution_count": null,
   "id": "ec1978e4-63de-46dc-9e91-39cbcfa9e239",
   "metadata": {},
   "outputs": [],
   "source": [
    "grid_ort = IAI.GridSearch(\n",
    "    IAI.OptimalTreeRegressor(\n",
    "        random_seed=123,\n",
    "    ),\n",
    "    max_depth=1:5,\n",
    ")"
   ]
  },
  {
   "cell_type": "code",
   "execution_count": null,
   "id": "d4551926-e1e6-4d64-9af8-659f8e752b4a",
   "metadata": {},
   "outputs": [],
   "source": [
    "IAI.fit!(grid_ort, X_train_default, y_train_default)"
   ]
  },
  {
   "cell_type": "code",
   "execution_count": null,
   "id": "306e0ed0-cf6e-4f00-a3f7-46aa7154939a",
   "metadata": {},
   "outputs": [],
   "source": [
    "IAI.score(grid_ort,X_test_default, y_test_default,criterion=:mse)"
   ]
  },
  {
   "cell_type": "markdown",
   "id": "19f04575-70e4-407d-bc38-02f482959843",
   "metadata": {},
   "source": [
    "### ORT_RL"
   ]
  },
  {
   "cell_type": "code",
   "execution_count": null,
   "id": "fb91ac9a-65f6-4feb-9522-fd6033ecdc2e",
   "metadata": {},
   "outputs": [],
   "source": [
    "grid_ort_rl = IAI.GridSearch(\n",
    "    IAI.OptimalTreeRegressor(\n",
    "        random_seed=123,\n",
    "        max_depth=4,\n",
    "        regression_features=All(),\n",
    "    ),\n",
    "    regression_lambda=[0.005, 0.01, 0.05],\n",
    ")"
   ]
  },
  {
   "cell_type": "code",
   "execution_count": null,
   "id": "1f7f7a3a-c59c-48c4-aca5-bfdf1d0d6c9d",
   "metadata": {},
   "outputs": [],
   "source": [
    "IAI.fit!(grid_ort_rl, X_train_default, y_train_default)"
   ]
  },
  {
   "cell_type": "code",
   "execution_count": null,
   "id": "ca395307-9844-4008-afad-ca36b91c7d9f",
   "metadata": {},
   "outputs": [],
   "source": [
    "IAI.score(grid_ort,X_test_default, y_test_default,criterion=:mse)"
   ]
  },
  {
   "cell_type": "markdown",
   "id": "36d0cbca-6aa0-443b-9f4a-d1c6c3a15809",
   "metadata": {},
   "source": [
    "### Random Forest"
   ]
  },
  {
   "cell_type": "code",
   "execution_count": null,
   "id": "b5a1bfd1-7d8f-4bed-90f0-f50c286d36ad",
   "metadata": {},
   "outputs": [],
   "source": [
    "rf = IAI.RandomForestClassifier(random_seed=1, num_trees = 50)\n",
    "grid_rf = IAI.GridSearch(rf, max_depth=1:4)"
   ]
  },
  {
   "cell_type": "code",
   "execution_count": null,
   "id": "fa0e85aa-4058-4050-bf81-00153a9c18a4",
   "metadata": {},
   "outputs": [],
   "source": [
    "IAI.fit!(grid_rf, X_train_default, y_train_default)"
   ]
  },
  {
   "cell_type": "code",
   "execution_count": null,
   "id": "9047b79a-0082-47e3-a665-49996f726a7d",
   "metadata": {},
   "outputs": [],
   "source": [
    "IAI.score(grid_rf,X_test_default, y_test_default,criterion=:auc)"
   ]
  },
  {
   "cell_type": "markdown",
   "id": "311e5337-4b03-44a2-a91b-c449ff5cc600",
   "metadata": {},
   "source": [
    "### XGBoost"
   ]
  },
  {
   "cell_type": "code",
   "execution_count": null,
   "id": "073ca6f3-6f15-41c2-aa0c-8867bdb9729e",
   "metadata": {},
   "outputs": [],
   "source": [
    "xgb = IAI.XGBoostClassifier(random_seed=1, num_estimators=50)\n",
    "grid_xgb = IAI.GridSearch(xgb, max_depth=1:4)"
   ]
  },
  {
   "cell_type": "code",
   "execution_count": null,
   "id": "c77c367d-bf09-4705-85eb-a3427db985bf",
   "metadata": {},
   "outputs": [],
   "source": [
    "IAI.fit!(grid_xgb, X_train_default, y_train_default)"
   ]
  },
  {
   "cell_type": "code",
   "execution_count": null,
   "id": "43abe5d0-2185-464a-811c-9fae780755c1",
   "metadata": {},
   "outputs": [],
   "source": [
    "IAI.score(grid_xgb,X_test_default, y_test_default,criterion=:auc)"
   ]
  },
  {
   "cell_type": "code",
   "execution_count": null,
   "id": "543b8633-01a4-4bde-91d3-b94f779bc032",
   "metadata": {},
   "outputs": [],
   "source": [
    "IAI.variable_importance(IAI.get_learner(grid_xgb))"
   ]
  },
  {
   "cell_type": "markdown",
   "id": "d70cf8fe-cbc8-4d09-800e-a389b2fee074",
   "metadata": {},
   "source": [
    "### XGBoost regressor"
   ]
  },
  {
   "cell_type": "code",
   "execution_count": null,
   "id": "8ac1d9cb-a076-479c-8852-d94ef6b966c6",
   "metadata": {},
   "outputs": [],
   "source": [
    "xgbr = IAI.XGBoostRegressor(random_seed=1, num_estimators=50)\n",
    "grid_xgbr = IAI.GridSearch(xgbr, max_depth=1:4)"
   ]
  },
  {
   "cell_type": "code",
   "execution_count": null,
   "id": "4723da4d-938b-4982-9174-5ba5880baedd",
   "metadata": {},
   "outputs": [],
   "source": [
    "IAI.fit!(grid_xgbr, X_train_2, y_train_default)"
   ]
  },
  {
   "cell_type": "code",
   "execution_count": null,
   "id": "9c3bd7a0-ca2c-4d35-a38b-f045346e9a0f",
   "metadata": {},
   "outputs": [],
   "source": [
    "IAI.score(grid_xgbr,X_test_2, y_test_default,criterion=:mse)"
   ]
  },
  {
   "cell_type": "code",
   "execution_count": null,
   "id": "63a86351-bb30-48da-ab46-1abd52a97337",
   "metadata": {},
   "outputs": [],
   "source": [
    "IAI.variable_importance(IAI.get_learner(grid_xgbr))"
   ]
  },
  {
   "cell_type": "markdown",
   "id": "8d0f9c87-7417-41b2-bf25-401d30e9c07b",
   "metadata": {},
   "source": [
    "## Resample"
   ]
  },
  {
   "cell_type": "markdown",
   "id": "eb71d445-5598-40f1-a015-a449dc20af0e",
   "metadata": {},
   "source": [
    "### XGB regressor"
   ]
  },
  {
   "cell_type": "code",
   "execution_count": null,
   "id": "ba37cb0b-245a-49a3-987d-9bb0d3f45dcd",
   "metadata": {},
   "outputs": [],
   "source": [
    "X_train_resampled = CSV.read(\"../Data/X_train_resampled.csv\", DataFrame)\n",
    "X_test_resampled = CSV.read(\"../Data/X_test_resampled.csv\", DataFrame)\n",
    "y_train_resampled = CSV.read(\"../Data/y_train_resampled.csv\", DataFrame)\n",
    "y_test_resampled = CSV.read(\"../Data/y_test_resampled.csv\", DataFrame)\n",
    "y_train_resampled = y_train_resampled[!,\"TARGET\"]\n",
    "y_test_resampled = y_test_resampled[!,\"TARGET\"]"
   ]
  },
  {
   "cell_type": "code",
   "execution_count": null,
   "id": "54adefa2-a6ca-4127-b427-6fb927c579b3",
   "metadata": {},
   "outputs": [],
   "source": [
    "xgbr_resampled = IAI.XGBoostRegressor(random_seed=1, num_estimators=50)\n",
    "grid_xgbr_resampled = IAI.GridSearch(xgbr_resampled, max_depth=1:4)"
   ]
  },
  {
   "cell_type": "code",
   "execution_count": null,
   "id": "51545aa6-81bc-4988-a637-6d692affe0e7",
   "metadata": {},
   "outputs": [],
   "source": [
    "IAI.fit!(grid_xgbr_resampled, X_train_resampled, y_train_resampled)"
   ]
  },
  {
   "cell_type": "code",
   "execution_count": null,
   "id": "29bfbf0d-58aa-4837-b9a4-8686059a72de",
   "metadata": {},
   "outputs": [],
   "source": [
    "IAI.score(grid_xgbr_resampled,X_test_resampled, y_test_resampled,criterion=:mse)"
   ]
  },
  {
   "cell_type": "markdown",
   "id": "f33d5583-84b3-4fcc-bbc3-b27f489a833e",
   "metadata": {},
   "source": [
    "### XGB classifier"
   ]
  },
  {
   "cell_type": "code",
   "execution_count": null,
   "id": "af5e3fea-81d0-4939-977d-7bfc1a4e3ed7",
   "metadata": {},
   "outputs": [],
   "source": [
    "xgb_resampled = IAI.XGBoostClassifier(random_seed=1, num_estimators=50)\n",
    "grid_xgb_resampled = IAI.GridSearch(xgb_resampled, max_depth=1:4)"
   ]
  },
  {
   "cell_type": "code",
   "execution_count": null,
   "id": "d2edebaf-b6e1-4fd8-9154-d84b821448e6",
   "metadata": {},
   "outputs": [],
   "source": [
    "IAI.fit!(grid_xgb_resampled, X_train_resampled, y_train_resampled)"
   ]
  },
  {
   "cell_type": "code",
   "execution_count": null,
   "id": "8f11f104-84a5-4400-92a8-81731698cfe4",
   "metadata": {},
   "outputs": [],
   "source": [
    "IAI.score(grid_xgb_resampled,X_test_resampled, y_test_resampled,criterion=:auc)"
   ]
  },
  {
   "cell_type": "markdown",
   "id": "794507c4-6ff0-424b-88c4-fc04b19975ed",
   "metadata": {},
   "source": [
    "### ORT"
   ]
  },
  {
   "cell_type": "code",
   "execution_count": null,
   "id": "ca7052ce-5cb9-45e0-97ef-c51c968fddf4",
   "metadata": {},
   "outputs": [],
   "source": [
    "grid_ort_resampled = IAI.GridSearch(\n",
    "    IAI.OptimalTreeRegressor(\n",
    "        random_seed=123,\n",
    "    ),\n",
    "    max_depth=1:5,\n",
    ")"
   ]
  },
  {
   "cell_type": "code",
   "execution_count": null,
   "id": "e3c35070-08f2-43df-8472-c86715026d08",
   "metadata": {},
   "outputs": [],
   "source": [
    "IAI.fit!(grid_ort_resampled, X_train_resampled, y_train_resampled)"
   ]
  },
  {
   "cell_type": "code",
   "execution_count": null,
   "id": "f7b4bfab-57cc-4b94-a7fd-c18a75faa747",
   "metadata": {},
   "outputs": [],
   "source": [
    "IAI.score(grid_ort_resampled,X_test_resampled, y_test_resampled,criterion=:mse)"
   ]
  },
  {
   "cell_type": "markdown",
   "id": "db610678-889a-43b2-93ad-0ed198ee7e8d",
   "metadata": {},
   "source": [
    "### OCT regression"
   ]
  },
  {
   "cell_type": "code",
   "execution_count": null,
   "id": "626f24c9-c726-41a6-90aa-419c6716460f",
   "metadata": {},
   "outputs": [],
   "source": [
    "grid_oct_r_resampled = IAI.GridSearch(\n",
    "    IAI.OptimalTreeClassifier(\n",
    "        random_seed=1,\n",
    "        minbucket=10,\n",
    "        refit_learner=IAI.GridSearch(\n",
    "            IAI.OptimalFeatureSelectionClassifier(),\n",
    "            sparsity=1:3,\n",
    "        ),\n",
    "    ),\n",
    "    max_depth=1:4,\n",
    ")"
   ]
  },
  {
   "cell_type": "code",
   "execution_count": null,
   "id": "4e9201c1-996d-4e13-a54a-0de9495ad317",
   "metadata": {},
   "outputs": [],
   "source": [
    "IAI.fit!(grid_oct_r_resampled, X_train_resampled, y_train_resampled)"
   ]
  },
  {
   "cell_type": "code",
   "execution_count": null,
   "id": "2b69cb4b-1169-42e9-b16a-6177f7220493",
   "metadata": {},
   "outputs": [],
   "source": [
    "IAI.score(grid_oct_r_resampled,X_test_resampled, y_test_resampled,criterion=:auc)"
   ]
  },
  {
   "cell_type": "markdown",
   "id": "0c78027b-ba7e-4cd1-9aa4-2f84b7fd22a7",
   "metadata": {},
   "source": [
    "### OCT"
   ]
  },
  {
   "cell_type": "code",
   "execution_count": null,
   "id": "1206ede8-d9ac-4ba8-b548-7de4dabc2639",
   "metadata": {},
   "outputs": [],
   "source": [
    "grid_oct_resampled = IAI.GridSearch(\n",
    "    IAI.OptimalTreeClassifier(\n",
    "        random_seed=1),\n",
    "    max_depth=1:7,\n",
    "    minbucket=10\n",
    ")"
   ]
  },
  {
   "cell_type": "code",
   "execution_count": null,
   "id": "402a4336-1bca-4ab6-8517-c9a7270609ca",
   "metadata": {},
   "outputs": [],
   "source": [
    "IAI.fit!(grid_oct_resampled, X_train_resampled, y_train_resampled)"
   ]
  },
  {
   "cell_type": "code",
   "execution_count": null,
   "id": "5ae6727a-da09-46ed-9f26-9ef8ce445601",
   "metadata": {},
   "outputs": [],
   "source": [
    "IAI.score(grid_oct_resampled,X_test_resampled, y_test_resampled,criterion=:auc)"
   ]
  },
  {
   "cell_type": "markdown",
   "id": "0874514f-9733-4185-8435-bf1e6a9d4a62",
   "metadata": {},
   "source": [
    "### ORT RL"
   ]
  },
  {
   "cell_type": "code",
   "execution_count": null,
   "id": "4f366f8a-12a2-4236-824c-700e8adfc4a6",
   "metadata": {},
   "outputs": [],
   "source": [
    "grid_ort_rl_resampled = IAI.GridSearch(\n",
    "    IAI.OptimalTreeRegressor(\n",
    "        random_seed=123,\n",
    "        max_depth=4,\n",
    "        regression_features=All(),\n",
    "    ),\n",
    "    regression_lambda=[0.005, 0.01, 0.05],\n",
    ")"
   ]
  },
  {
   "cell_type": "code",
   "execution_count": null,
   "id": "e38ba796-119b-4b76-b155-d1bac977621d",
   "metadata": {},
   "outputs": [],
   "source": [
    "IAI.fit!(grid_ort_rl_resampled, X_train_resampled, y_train_resampled)"
   ]
  },
  {
   "cell_type": "code",
   "execution_count": null,
   "id": "cbb965d1-e443-4597-af5f-4b72e553d8f0",
   "metadata": {},
   "outputs": [],
   "source": [
    "IAI.score(grid_ort_rl_resampled,X_test_resampled, y_test_resampled,criterion=:mse)"
   ]
  },
  {
   "cell_type": "markdown",
   "id": "4e1d3748-05ac-4ced-8ee0-1053f8398b64",
   "metadata": {},
   "source": [
    "### Random Forest"
   ]
  },
  {
   "cell_type": "code",
   "execution_count": null,
   "id": "836fcae4-4003-49fb-af9e-e45d7c0776d1",
   "metadata": {},
   "outputs": [],
   "source": [
    "rf_resampled = IAI.RandomForestClassifier(random_seed=1, num_trees = 50)\n",
    "grid_rf_resampled = IAI.GridSearch(rf_resampled, max_depth=1:4)"
   ]
  },
  {
   "cell_type": "code",
   "execution_count": null,
   "id": "a8e44509-1662-441f-9055-100ecb4007c0",
   "metadata": {},
   "outputs": [],
   "source": [
    "IAI.fit!(grid_rf_resampled, X_train_resampled, y_train_resampled)"
   ]
  },
  {
   "cell_type": "code",
   "execution_count": null,
   "id": "e924bc2c-cf7a-47d6-8809-14b81648419e",
   "metadata": {},
   "outputs": [],
   "source": [
    "IAI.score(grid_rf_resampled,X_test_resampled, y_test_resampled,criterion=:auc)"
   ]
  }
 ],
 "metadata": {
  "kernelspec": {
   "display_name": "Julia (IAI) 1.9.2",
   "language": "julia",
   "name": "julia-_iai_-1.9"
  },
  "language_info": {
   "file_extension": ".jl",
   "mimetype": "application/julia",
   "name": "julia",
   "version": "1.9.2"
  }
 },
 "nbformat": 4,
 "nbformat_minor": 5
}
