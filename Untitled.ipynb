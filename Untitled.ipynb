{
 "cells": [
  {
   "cell_type": "code",
   "execution_count": 4,
   "id": "519dd1d0-94ec-4bb9-9877-c7966761560b",
   "metadata": {},
   "outputs": [],
   "source": [
    "import numpy as np\n",
    "import pandas as pd\n",
    "from scipy.optimize import minimize\n",
    "\n",
    "df = pd.read_csv(\"framingham.csv\", delimiter=\";\")\n",
    "df = df.dropna()\n",
    "X = np.array(df.iloc[:,0:-1])\n",
    "y = np.array(df.iloc[:,-1])"
   ]
  },
  {
   "cell_type": "code",
   "execution_count": null,
   "id": "fb704ab4-cdfe-4735-b3d1-d3b8403f2e35",
   "metadata": {},
   "outputs": [],
   "source": [
    "# Assuming X and y are defined elsewhere, and are numpy arrays\n",
    "n, p = X.shape\n",
    "\n",
    "# Parameters\n",
    "rho = 1\n",
    "gamma = 5\n",
    "M = 100\n",
    "k = 5\n",
    "\n",
    "# Define objective function\n",
    "def objective(beta):\n",
    "    beta_p = beta[:p]\n",
    "    beta0 = beta[p]\n",
    "    z = beta[p+1:p*2+1]  # Continuous relaxation of binary variables\n",
    "    mu = beta[-2]\n",
    "    nu = beta[-1-n:-1]  # Last n elements before mu\n",
    "    regularization = rho * np.sqrt(np.sum(beta_p ** 2))\n",
    "    loss = -np.sum(np.log(1 + np.exp(-y * (X.dot(beta_p) + beta0 + regularization))))\n",
    "    return loss + gamma * mu + np.sum(nu)\n",
    "\n",
    "# Define constraints\n",
    "constraints = []\n",
    "\n",
    "# Constraint 1\n",
    "def constraint1(beta, i):\n",
    "    beta_p = beta[:p]\n",
    "    beta0 = beta[p]\n",
    "    mu = beta[-2]\n",
    "    nu = beta[-1-n:-1]\n",
    "    term1 = np.log((1 + np.exp(-y[i] * (np.dot(X[i], beta_p) + beta0) + rho * np.sqrt(np.sum(beta_p ** 2)))))\n",
    "    term2 = np.log((1 + np.exp(y[i] * (np.dot(X[i], beta_p) + beta0) + rho * np.sqrt(np.sum(beta_p ** 2)))))\n",
    "    return mu + nu[i] - (term1 - term2)\n",
    "\n",
    "for i in range(n):\n",
    "    constraints.append({'type': 'ineq', 'fun': constraint1, 'args': (i,)})\n",
    "\n",
    "# Big M constraints and sparsity constraint\n",
    "for j in range(p):\n",
    "    constraints.append({'type': 'ineq', 'fun': lambda beta: M * beta[p+j+1] - beta[j]})\n",
    "    constraints.append({'type': 'ineq', 'fun': lambda beta: beta[j] - M * beta[p+j+1]})\n",
    "    constraints.append({'type': 'ineq', 'fun': lambda beta: beta[p+j+1] - 0})  # z[j] >= 0\n",
    "    constraints.append({'type': 'ineq', 'fun': lambda beta: 1 - beta[p+j+1]})  # z[j] <= 1\n",
    "\n",
    "constraints.append({'type': 'eq', 'fun': lambda beta: np.sum(beta[p+1:p*2+1]) - k})\n",
    "\n",
    "# Initialize variables\n",
    "beta_initial = np.zeros(p*2 + 2 + n)  # Includes beta, z, mu, and nu\n",
    "\n",
    "# Solve the optimization problem\n",
    "result = minimize(objective, beta_initial, constraints=constraints)\n",
    "\n",
    "# After solving, extract the results\n",
    "optimized_beta = result.x[:p]\n"
   ]
  }
 ],
 "metadata": {
  "kernelspec": {
   "display_name": "Python 3 (ipykernel)",
   "language": "python",
   "name": "python3"
  },
  "language_info": {
   "codemirror_mode": {
    "name": "ipython",
    "version": 3
   },
   "file_extension": ".py",
   "mimetype": "text/x-python",
   "name": "python",
   "nbconvert_exporter": "python",
   "pygments_lexer": "ipython3",
   "version": "3.10.12"
  }
 },
 "nbformat": 4,
 "nbformat_minor": 5
}
