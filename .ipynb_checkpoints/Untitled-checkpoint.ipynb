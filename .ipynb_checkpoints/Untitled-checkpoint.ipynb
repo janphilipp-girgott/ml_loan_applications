{
 "cells": [
  {
   "cell_type": "code",
   "execution_count": null,
   "id": "fb704ab4-cdfe-4735-b3d1-d3b8403f2e35",
   "metadata": {},
   "outputs": [],
   "source": [
    "\n",
    "\n",
    "\n",
    "# Assuming X and y are defined elsewhere, and are numpy arrays\n",
    "n, p = X.shape\n",
    "\n",
    "# Parameters\n",
    "rho = 1\n",
    "gamma = 5\n",
    "M = 100\n",
    "k = 5\n",
    "\n",
    "# Define objective function\n",
    "def objective(beta):\n",
    "    beta_p = beta[:p]\n",
    "    beta0 = beta[-1]\n",
    "    regularization = rho * np.sqrt(np.sum(beta_p ** 2))\n",
    "    loss = -np.sum(np.log(1 + np.exp(-y * (X.dot(beta_p) + beta0 + regularization))))\n",
    "    return loss + gamma * mu + np.sum(nu)\n",
    "\n",
    "# Define constraints\n",
    "constraints = []\n",
    "\n",
    "# Constraint 1\n",
    "def constraint1(beta, i):\n",
    "    beta_p = beta[:p]\n",
    "    beta0 = beta[-1]\n",
    "    term1 = np.log((1 + np.exp(-y[i] * (np.dot(X[i], beta_p) + beta0) + rho * np.sqrt(np.sum(beta_p ** 2)))))\n",
    "    term2 = np.log((1 + np.exp(y[i] * (np.dot(X[i], beta_p) + beta0) + rho * np.sqrt(np.sum(beta_p ** 2)))))\n",
    "    return mu + nu[i] - (term1 - term2)\n",
    "\n",
    "for i in range(n):\n",
    "    constraints.append({'type': 'ineq', 'fun': constraint1, 'args': (i,)})\n",
    "\n",
    "# Big M constraints\n",
    "for j in range(p):\n",
    "    constraints.append({'type': 'ineq', 'fun': lambda beta: M * z[j] - beta[j]})\n",
    "    constraints.append({'type': 'ineq', 'fun': lambda beta: beta[j] - M * z[j]})\n",
    "\n",
    "# Sparsity constraint\n",
    "constraints.append({'type': 'eq', 'fun': lambda beta: np.sum(z) - k})\n",
    "\n",
    "# Initialize variables\n",
    "beta_initial = np.zeros(p + 1)  # Including beta0\n",
    "\n",
    "# Solve the optimization problem\n",
    "result = minimize(objective, beta_initial, constraints=constraints)\n",
    "\n",
    "# After solving, extract the results\n",
    "optimized_beta = result.x\n"
   ]
  }
 ],
 "metadata": {
  "kernelspec": {
   "display_name": "Python 3 (ipykernel)",
   "language": "python",
   "name": "python3"
  },
  "language_info": {
   "codemirror_mode": {
    "name": "ipython",
    "version": 3
   },
   "file_extension": ".py",
   "mimetype": "text/x-python",
   "name": "python",
   "nbconvert_exporter": "python",
   "pygments_lexer": "ipython3",
   "version": "3.10.12"
  }
 },
 "nbformat": 4,
 "nbformat_minor": 5
}
