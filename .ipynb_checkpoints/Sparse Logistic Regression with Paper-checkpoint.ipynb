{
 "cells": [
  {
   "cell_type": "code",
   "execution_count": 3,
   "id": "17024ab9-ba32-4e21-a9f5-6a9b61501aa0",
   "metadata": {},
   "outputs": [],
   "source": [
    "using SubsetSelectionCIO, StatsBase, SubsetSelection, CSV, DataFrames, LinearAlgebra"
   ]
  },
  {
   "cell_type": "code",
   "execution_count": 8,
   "id": "1f924860-002d-484f-8a62-ba010328d3ff",
   "metadata": {},
   "outputs": [
    {
     "data": {
      "text/plain": [
       "7"
      ]
     },
     "execution_count": 8,
     "metadata": {},
     "output_type": "execute_result"
    }
   ],
   "source": [
    "framingham = CSV.read(\"framingham.csv\", DataFrame)\n",
    "X = Matrix(framingham[:,1:13])\n",
    "Y = framingham[:,14]\n",
    "γ = 2\n",
    "k=7"
   ]
  },
  {
   "cell_type": "code",
   "execution_count": 22,
   "id": "f5b0dfc9-c46b-484f-96ba-f4bd41c0ae8b",
   "metadata": {},
   "outputs": [
    {
     "name": "stdout",
     "output_type": "stream",
     "text": [
      "Set parameter Username\n",
      "Academic license - for non-commercial use only - expires 2024-08-22\n",
      "Set parameter TimeLimit to value 60\n"
     ]
    },
    {
     "ename": "LoadError",
     "evalue": "Please check your parameters: To not regularize bias, must specify -B 1 along with -R",
     "output_type": "error",
     "traceback": [
      "Please check your parameters: To not regularize bias, must specify -B 1 along with -R",
      "",
      "Stacktrace:",
      "  [1] error(s::String)",
      "    @ Base ./error.jl:35",
      "  [2] linear_train(labels::Vector{Int64}, instances::Adjoint{Int64, Matrix{Int64}}; weights::Nothing, solver_type::Int32, eps::Float64, C::Int64, p::Float64, init_sol::Ptr{Float64}, bias::Float64, verbose::Bool)",
      "    @ LIBLINEAR ~/.julia/packages/LIBLINEAR/77yny/src/LIBLINEAR.jl:227",
      "  [3] linear_train",
      "    @ ~/.julia/packages/LIBLINEAR/77yny/src/LIBLINEAR.jl:176 [inlined]",
      "  [4] recover_primal(ℓ::LogReg, Y::Vector{Int64}, Z::Matrix{Int64}, γ::Int64)",
      "    @ SubsetSelection ~/.julia/packages/SubsetSelection/3nMsD/src/recover_primal.jl:21",
      "  [5] start_primal",
      "    @ ~/.julia/packages/SubsetSelectionCIO/gllTN/src/inner_op.jl:221 [inlined]",
      "  [6] sparse_inverse(ℓ::LogReg, Y::Vector{Int64}, X::Matrix{Int64}, γ::Int64; valueThreshold::Float64, maxIter::Float64)",
      "    @ SubsetSelectionCIO ~/.julia/packages/SubsetSelectionCIO/gllTN/src/inner_op.jl:174",
      "  [7] sparse_inverse",
      "    @ ~/.julia/packages/SubsetSelectionCIO/gllTN/src/inner_op.jl:168 [inlined]",
      "  [8] inner_op_plain(ℓ::LogReg, Y::Vector{Int64}, X::Matrix{Int64}, s::Vector{Float64}, γ::Int64)",
      "    @ SubsetSelectionCIO ~/.julia/packages/SubsetSelectionCIO/gllTN/src/inner_op.jl:111",
      "  [9] #inner_op#1",
      "    @ ~/.julia/packages/SubsetSelectionCIO/gllTN/src/inner_op.jl:102 [inlined]",
      " [10] inner_op",
      "    @ ~/.julia/packages/SubsetSelectionCIO/gllTN/src/inner_op.jl:98 [inlined]",
      " [11] oa_formulation(ℓ::LogReg, Y::Vector{Int64}, X::Matrix{Int64}, k::Int64, γ::Int64; indices0::Vector{Int64}, ΔT_max::Int64, verbose::Bool, Gap::Float64, solver::Symbol, rootnode::Bool, rootCuts::Int64, stochastic::Bool)",
      "    @ SubsetSelectionCIO ~/.julia/packages/SubsetSelectionCIO/gllTN/src/SubsetSelectionCIO.jl:54",
      " [12] oa_formulation(ℓ::LogReg, Y::Vector{Int64}, X::Matrix{Int64}, k::Int64, γ::Int64)",
      "    @ SubsetSelectionCIO ~/.julia/packages/SubsetSelectionCIO/gllTN/src/SubsetSelectionCIO.jl:40",
      " [13] top-level scope",
      "    @ In[22]:1"
     ]
    }
   ],
   "source": [
    "oa_formulation(SubsetSelection.LogReg(), Y, X, 7, 2)"
   ]
  },
  {
   "cell_type": "code",
   "execution_count": null,
   "id": "becfd45f-fa7f-4df6-8900-fb97225fb8e4",
   "metadata": {},
   "outputs": [],
   "source": []
  }
 ],
 "metadata": {
  "kernelspec": {
   "display_name": "Julia 1.9.2",
   "language": "julia",
   "name": "julia-1.9"
  },
  "language_info": {
   "file_extension": ".jl",
   "mimetype": "application/julia",
   "name": "julia",
   "version": "1.9.3"
  }
 },
 "nbformat": 4,
 "nbformat_minor": 5
}
