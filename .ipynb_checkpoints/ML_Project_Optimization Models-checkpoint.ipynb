{
 "cells": [
  {
   "cell_type": "markdown",
   "id": "7d01b176-14f8-47c7-b0e2-4187720463a3",
   "metadata": {},
   "source": [
    "# Loan Applications: Optimization Models"
   ]
  },
  {
   "cell_type": "code",
   "execution_count": 1,
   "id": "0ad773cd-c6ab-4e42-992d-e829139b31e4",
   "metadata": {},
   "outputs": [],
   "source": [
    "using CSV, DataFrames, JuMP, Gurobi"
   ]
  },
  {
   "cell_type": "code",
   "execution_count": 7,
   "id": "2d388885-79d3-4b86-b67b-f4e5ee4d3042",
   "metadata": {},
   "outputs": [],
   "source": [
    "# Indices\n",
    "n = 100;"
   ]
  },
  {
   "cell_type": "markdown",
   "id": "b4856045-4de0-414e-95eb-84a7c4e8b388",
   "metadata": {},
   "source": [
    "## Model 1: Deriving a Threshold to Approve Loans"
   ]
  },
  {
   "cell_type": "code",
   "execution_count": null,
   "id": "89468fec-4717-4ec1-a0c5-a394ea7dd161",
   "metadata": {},
   "outputs": [],
   "source": [
    "model1 = Model(Gurobi.Optimizer)\n",
    "\n",
    "# Define Variables\n",
    "@variable(model1, [i=1:n], Bin)\n",
    "@variable(model1, 0 <= t <= 1)\n",
    "@variable(model1, 0 <= c[i=1:n] <= 1)\n",
    "@variable(model1, 0 <= r[i=1:n] <= 1)\n",
    "@variable(model1, z[i=1:n] >= 0)\n",
    "\n",
    "# Define Objective\n",
    "@objective(model1, Max, sum(z[i]*(a[i]*(1+r[i])*(1-p[i])-a[i]*p[i]) for i=1:n))\n",
    "\n",
    "# Define Constraints\n",
    "@constraint(model1, c1[for i=1:n], t-p[i] <= x[i])\n",
    "@constraint(model1, c2[for i=1:n], p[i]-t <= 1-x[i])\n",
    "@constraint(model1, c3[for i=1:n], z[i] <= X[i])\n",
    "@constraint(model1, c4[for i=1:n], z[i] <= C[i])\n",
    "@constraint(model1, c5[for i=1:n], z[i] <= C[i]-(1-x[i]))\n",
    "@constraint(model1, c6[for i=1:n], 1-c[i] = (r[i] - 0.01)*(1/1)"
   ]
  },
  {
   "cell_type": "markdown",
   "id": "2ebe08fd-f26b-4ac8-909f-ab38cc53a555",
   "metadata": {},
   "source": [
    "## Model 2: Decide on Optimal Interest Rates"
   ]
  },
  {
   "cell_type": "code",
   "execution_count": null,
   "id": "12691f05-b3eb-4f89-9b53-a6fcf7be01f4",
   "metadata": {},
   "outputs": [],
   "source": [
    "model2 = Model(Gurobi.Optimizer)\n",
    "\n",
    "#Define Variables\n",
    "@variable(model1, 0 <= c[i=1:n] <= 1)\n",
    "@variable(model1, 0 <= r[i=1:n] <= 1)\n",
    "\n",
    "# Define Objective\n",
    "@objective(model1, Max, sum(c[i]*(a[i]*(1+r[i])*(1-p[i])-a[i]*p[i]) for i=1:n))\n",
    "\n",
    "# Define Constraints\n",
    "@constraint(model1, c6[for i=1:n], 1-c[i] = (r[i] - 0.01)*(1/1)"
   ]
  }
 ],
 "metadata": {
  "kernelspec": {
   "display_name": "Julia 1.9.2",
   "language": "julia",
   "name": "julia-1.9"
  },
  "language_info": {
   "file_extension": ".jl",
   "mimetype": "application/julia",
   "name": "julia",
   "version": "1.9.3"
  }
 },
 "nbformat": 4,
 "nbformat_minor": 5
}
